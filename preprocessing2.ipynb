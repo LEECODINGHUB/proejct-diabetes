{
   ]
  },
  {
   "cell_type": "code",
   "execution_count": 1,
   "id": "becc0ad4-1aee-487b-a935-2192f66acf67",
   "metadata": {},
   "outputs": [],
   "source": [
    "import pandas as pd \n",
    "import numpy as np\n",
    "import warnings \n",
    "warnings.filterwarnings('ignore')"
   ]
  },
  {
   "cell_type": "code",
   "execution_count": 2,
   "id": "287c5dab-6cd1-4627-a89b-d9b6bcdfc986",
   "metadata": {},
   "outputs": [],
   "source": [
    "family = 'familyxx.csv'\n",
    "family = pd.read_csv(family)"
   ]
  },
  {
   "cell_type": "code",
   "execution_count": 3,
   "id": "e83eb8b6-b20f-434c-816b-4b020f6f6449",
   "metadata": {},
   "outputs": [],
   "source": [
    "samadult = 'samadult.csv'\n",
    "samadult = pd.read_csv(samadult)"
   ]
  },
  {
   "cell_type": "code",
   "execution_count": 4,
   "id": "f69f9986-d566-44ff-9db2-3b323cba7a9a",
   "metadata": {},
   "outputs": [],
   "source": [
    "samchild = 'samchild.csv'\n",
    "samchild = pd.read_csv(samchild)"
   ]
  },
  {
   "cell_type": "code",
   "execution_count": 5,
   "id": "34481591-562a-4d73-8c1f-7b9c0bd987e0",
   "metadata": {},
   "outputs": [],
   "source": [
    "# **목표:** 다양한 개인 속성(예: 성별, 나이, 키 등)을 통해 당뇨병 상태 예측"
   ]
  },
  {
   "cell_type": "markdown",
   "id": "3acbbb91-2704-4bff-b40a-cbeeb15f3da3",
   "metadata": {},
   "source": [
    "# 데이터 살펴보기와 전처리 "
   ]
  },
  {
   "cell_type": "markdown",
   "id": "6c8d2202-58e9-48a2-b290-b649b71b0597",
   "metadata": {},
   "source": [
    "우리는 어떠한 이유로 family, samadult, samchild 에서 특정 컬럼을 사용했다. \n",
    " - 논문이나, 기사 등 신빙성있는 이유가 근거가 되면 좋을 거 같다. (논문 같은 정보를 찾아주세요)\n",
    " - 결측치가 너무 많아서 사용하기 힘들면 배제했다. 등등\n",
    " - 타겟 컬럼으로 사용할만한 컬럼 찾아봤다.\n",
    " - 이제 합치고 결측치를 알아보고 어떤식으로 처리하고 값을 인코딩 할지 안할지, 등등 "
   ]
  },
  {
   "cell_type": "code",
   "execution_count": 6,
   "id": "4670bb1a-1967-4c71-9c76-7f5ff99364a0",
   "metadata": {},
   "outputs": [],
   "source": [
    "family_dict = {\n",
    "'FMX' : '',\n",
    "'HHX' : '',\n",
    "'FHSTATPR' : '건강이 좋지 않은 가족 ',\n",
    "'FSBALANC' : '돈이 충분치 않아 배고팠던 적. ' ,\n",
    "'FMEDBILL' : '의료비를 지불하기 어려웠던 적.',\n",
    "}\n",
    "\n",
    "family_col = [col for col in family.columns if col in family_dict]\n",
    "family = family[family_col]"
   ]
  },
  {
   "cell_type": "code",
   "execution_count": 7,
   "id": "93e14665-f402-4b89-af66-18bafa9edb6c",
   "metadata": {},
   "outputs": [],
   "source": [
    "samchild_dict = {\n",
    "'FMX' : '', \n",
    "'HHX' : '',\n",
    "'MRACRPI2' : '단일/ 다중 인종',\n",
    "'BMI_SC' : 'BMI',\n",
    "'AGE_P' : '',\n",
    "'SEX' : ' 1 남자, 2 여자 ',\n",
    "'ADD2' : '집중력 결핍장애.',\n",
    "'AODD2' : '발달 장애.',\n",
    "'CCONDRR1' : '다운 증후군 ',\n",
    "'CCONDRR2' : '뇌성마비',\n",
    "'CCONDRR4' : '낭포섬 섬유증',\n",
    "'CCONDRR5' : '빈혈',\n",
    "'CCONDRR6' : '당뇨 (타겟)',\n",
    "'CCONDRR7' : '관절염 ',\n",
    "'CCONDRR8' : '선천적 심장병',\n",
    "'CASHMEV' : '천식',\n",
    "'RALLG2' : '호흡기 알러지',\n",
    "'DALLG2' : ' 음식 알러지',\n",
    "'SALLG2' : ' 피부 알러지', \n",
    "'EARINF2' : '3개 이상의 귀감염',\n",
    "'CVISION' : '시각 ',\n",
    "'IHMOB' : '기거나,걷고,뛰는',\n",
    "'RSCL3_E3' : '슬픔/우울/눈물 ',\n",
    "'RSCL2_E2' : '많은 걱정',\n",
    "'CSHFLU12' : '독감 예방',\n",
    "}\n",
    "child_col = [col for col in samchild.columns if col in samchild_dict]\n",
    "samchild = samchild[child_col]"
   ]
  },
  {
   "cell_type": "code",
   "execution_count": 8,
   "id": "bd952111-d09a-41b3-8701-2e41c352c0d5",
   "metadata": {},
   "outputs": [],
   "source": [
    "samadult_dict = {\n",
    "'FMX' : '',\n",
    "'HHX' : '', \n",
    "'AGE_P' : '', \n",
    "'SEX' : '1 남자, 2 여자',\n",
    "'HYPEV' : '고혈압',\n",
    "'CHLEV' : '높은 콜레스테롤',\n",
    "'CHDEV' : '관상 동맥 심장병',\n",
    "'ANGEV' : '협심증',\n",
    "'STREV' : '뇌졸증',\n",
    "'COPDEV' : '폐질환',\n",
    "'AFLHC22_' : '내분비,영양,대사 문제',\n",
    "'ULCEV' : '궤양유무.',\n",
    "'CANEV' : '암진단유무',\n",
    "'PREGNOW' : '임신상태 (오직여성)',\n",
    "'FLWALK' : '걷기 힘든 정도',\n",
    "'AFLHCA1' : '시력 문제',\n",
    "'AFLHCA2' : '청력 문제',\n",
    "'AFLHCA3' : '관절염, 류마티즘',\n",
    "'AFLHCA4' : '등, 목',\n",
    "'AFLHCA5' : '골절, 뼈, 관절',\n",
    "'AFLHCA7' : '심장 문제',\n",
    "'AFLHCA8' : '뇌졸증',\n",
    "'AFLHCA9' : '고혈압',\n",
    "'AFLHCA10' : '당뇨',\n",
    "'AFLHCA11' : '폐, 호흡', \n",
    "'AFLHCA12' : '암',\n",
    "'AFLHCA13' : '선천적 결함',\n",
    "'AFLHCA17' : '우울/불안/정신적',\n",
    "'AFLHCA18' : '체중 문제',\n",
    "'AFLHC19_' : '팔, 다리, 손, 발의 유무로 인한 어려움',\n",
    "'AFLHC24_' : '소화기 계통',\n",
    "'AFLHC29_' : '술, 약물, 남용',\n",
    "'AFLHC30_' : '기타 정신적 문제',\n",
    "'AFLHC34_' : '임신 문제(오직여성)',\n",
    "'BMI': 'BMI수치',\n",
    "'DEP_2' : '우울증 약',\n",
    "'ASIMEDC' : '의료 비용',\n",
    "'ASISTLV' : '생활 유지',\n",
    "'AHEP' : '간염',\n",
    "'LIVEV' : '만성적인 간',\n",
    "'SMKEV' : '담배를 피었던 경험 ',\n",
    "'ASISLEEP' : '잠자는 시간',\n",
    "'HEAR_1R' : '보청기 사용 현황',\n",
    "'DIBEV1' : '당뇨병 유무 (타겟)' \n",
    "}\n",
    "adult_col = [col for col in samadult.columns if col in samadult_dict]\n",
    "samadult = samadult[adult_col]"
   ]
  },
  {
   "cell_type": "code",
   "execution_count": 9,
   "id": "6fab125d-b19f-46b6-8638-97eaec8504c6",
   "metadata": {},
   "outputs": [],
   "source": [
    "# 여기서는 우리는 소아당뇨와, 성인당뇨의 차이점을 말하고 두개를 각각 봐보기로 결정 \n",
    "# 샘플 파일 2개에서 타겟데이터로 쓸 만한 칼럼을 찾아봐바"
   ]
  },
  {
   "cell_type": "markdown",
   "id": "76666ac2-d0ff-49f5-aea3-4c4263b8411e",
   "metadata": {},
   "source": [
    "# 새로운 칼럼 만들어서 합치기  "
   ]
  },
  {
   "cell_type": "code",
   "execution_count": 10,
   "id": "1e927fa6-b4de-450c-938e-3a970dadf69e",
   "metadata": {},
   "outputs": [],
   "source": [
    "def add_fh_code(df):\n",
    "    code = (df['FMX'].astype('str') + df['HHX'].astype('str')).str.zfill(6)\n",
    "    df.insert(0, 'fh_code', code.astype('int64'))\n",
    "    \n",
    "def drop_col(df):\n",
    "    df.drop(['FMX','HHX'],axis=1,inplace=True)"
   ]
  },
  {
   "cell_type": "code",
   "execution_count": 11,
   "id": "16637d8f-05d6-41e0-a71c-f75f29653dce",
   "metadata": {},
   "outputs": [],
   "source": [
    "add_fh_code(family)\n",
    "add_fh_code(samadult)\n",
    "add_fh_code(samchild)"
   ]
  },
  {
   "cell_type": "code",
   "execution_count": 12,
   "id": "991f5144-a717-4b5a-88ed-945d8be43ed9",
   "metadata": {},
   "outputs": [],
   "source": [
    "drop_col(family)\n",
    "drop_col(samadult)\n",
    "drop_col(samchild)"
   ]
  },
  {
   "cell_type": "code",
   "execution_count": 13,
   "id": "71f0d59f-cde4-41bf-a4f4-9196269635ea",
   "metadata": {},
   "outputs": [],
   "source": [
    "famchild = pd.merge(samchild,family,how='left',on='fh_code')\n",
    "famadult = pd.merge(samadult,family,how='left',on='fh_code')"
   ]
  },
  {
   "cell_type": "code",
   "execution_count": 14,
   "id": "18d99a0a-330b-4873-a68a-ef598ed20487",
   "metadata": {},
   "outputs": [
    {
     "name": "stdout",
     "output_type": "stream",
     "text": [
      "fh_code        0\n",
      "SEX            0\n",
      "MRACRPI2       0\n",
      "AGE_P          0\n",
      "CSHFLU12       0\n",
      "ADD2         909\n",
      "AODD2        909\n",
      "CCONDRR1       0\n",
      "CCONDRR2       0\n",
      "CCONDRR4       0\n",
      "CCONDRR5       0\n",
      "CCONDRR6       0\n",
      "CCONDRR7       0\n",
      "CCONDRR8       0\n",
      "CASHMEV        0\n",
      "RALLG2      1330\n",
      "DALLG2      1330\n",
      "SALLG2      1330\n",
      "EARINF2     1330\n",
      "CVISION        0\n",
      "IHMOB          0\n",
      "BMI_SC      5185\n",
      "RSCL2_E2    1760\n",
      "RSCL3_E3    1760\n",
      "FSBALANC       0\n",
      "FHSTATPR       0\n",
      "FMEDBILL       0\n",
      "dtype: int64\n",
      "fh_code         0\n",
      "SEX             0\n",
      "AGE_P           0\n",
      "HYPEV           0\n",
      "CHLEV           0\n",
      "CHDEV           0\n",
      "ANGEV           0\n",
      "STREV           0\n",
      "COPDEV          0\n",
      "ULCEV           0\n",
      "CANEV           0\n",
      "DIBEV1          0\n",
      "PREGNOW     19300\n",
      "AFLHC19_    14543\n",
      "AFLHC22_    14543\n",
      "AFLHC24_    14543\n",
      "AFLHC29_    14543\n",
      "AFLHC30_    14543\n",
      "AFLHC34_    14543\n",
      "AFLHCA1     14543\n",
      "AFLHCA10    14543\n",
      "AFLHCA11    14543\n",
      "AFLHCA12    14543\n",
      "AFLHCA13    14543\n",
      "AFLHCA17    14543\n",
      "AFLHCA18    14543\n",
      "AFLHCA2     14543\n",
      "AFLHCA3     14543\n",
      "AFLHCA4     14543\n",
      "AFLHCA5     14543\n",
      "AFLHCA7     14543\n",
      "AFLHCA8     14543\n",
      "AFLHCA9     14543\n",
      "FLWALK          0\n",
      "SMKEV           0\n",
      "BMI             0\n",
      "AHEP            0\n",
      "LIVEV           0\n",
      "ASIMEDC         0\n",
      "ASISTLV         0\n",
      "ASISLEEP        0\n",
      "HEAR_1R         0\n",
      "DEP_2           0\n",
      "FSBALANC        0\n",
      "FHSTATPR        0\n",
      "FMEDBILL        0\n",
      "dtype: int64\n"
     ]
    }
   ],
   "source": [
    "print(famchild.isnull().sum())\n",
    "print(famadult.isnull().sum())"
   ]
  },
  {
   "cell_type": "markdown",
   "id": "78ce7f5a-e07b-429c-b30a-89165e079450",
   "metadata": {
    "jp-MarkdownHeadingCollapsed": true,
    "tags": []
   },
   "source": [
    "# famchild (쓰지 않기로 결정했습니다.)"
   ]
  },
  {
   "cell_type": "code",
   "execution_count": 15,
   "id": "92bac379-bad0-4b61-981f-4cb09cb278f3",
   "metadata": {},
   "outputs": [
    {
     "data": {
      "text/html": [
       "<div>\n",
       "<style scoped>\n",
       "    .dataframe tbody tr th:only-of-type {\n",
       "        vertical-align: middle;\n",
       "    }\n",
       "\n",
       "    .dataframe tbody tr th {\n",
       "        vertical-align: top;\n",
       "    }\n",
       "\n",
       "    .dataframe thead th {\n",
       "        text-align: right;\n",
       "    }\n",
       "</style>\n",
       "<table border=\"1\" class=\"dataframe\">\n",
       "  <thead>\n",
       "    <tr style=\"text-align: right;\">\n",
       "      <th></th>\n",
       "      <th>ADD2</th>\n",
       "      <th>AODD2</th>\n",
       "      <th>RALLG2</th>\n",
       "      <th>DALLG2</th>\n",
       "      <th>SALLG2</th>\n",
       "      <th>EARINF2</th>\n",
       "      <th>BMI_SC</th>\n",
       "      <th>RSCL2_E2</th>\n",
       "      <th>RSCL3_E3</th>\n",
       "    </tr>\n",
       "  </thead>\n",
       "  <tbody>\n",
       "    <tr>\n",
       "      <th>0</th>\n",
       "      <td>2.0</td>\n",
       "      <td>2.0</td>\n",
       "      <td>1.0</td>\n",
       "      <td>2.0</td>\n",
       "      <td>1.0</td>\n",
       "      <td>2.0</td>\n",
       "      <td>2687.0</td>\n",
       "      <td>1.0</td>\n",
       "      <td>0.0</td>\n",
       "    </tr>\n",
       "    <tr>\n",
       "      <th>1</th>\n",
       "      <td>2.0</td>\n",
       "      <td>2.0</td>\n",
       "      <td>2.0</td>\n",
       "      <td>2.0</td>\n",
       "      <td>2.0</td>\n",
       "      <td>2.0</td>\n",
       "      <td>NaN</td>\n",
       "      <td>0.0</td>\n",
       "      <td>0.0</td>\n",
       "    </tr>\n",
       "    <tr>\n",
       "      <th>2</th>\n",
       "      <td>2.0</td>\n",
       "      <td>2.0</td>\n",
       "      <td>2.0</td>\n",
       "      <td>2.0</td>\n",
       "      <td>2.0</td>\n",
       "      <td>2.0</td>\n",
       "      <td>NaN</td>\n",
       "      <td>NaN</td>\n",
       "      <td>NaN</td>\n",
       "    </tr>\n",
       "    <tr>\n",
       "      <th>3</th>\n",
       "      <td>NaN</td>\n",
       "      <td>NaN</td>\n",
       "      <td>NaN</td>\n",
       "      <td>NaN</td>\n",
       "      <td>NaN</td>\n",
       "      <td>NaN</td>\n",
       "      <td>NaN</td>\n",
       "      <td>NaN</td>\n",
       "      <td>NaN</td>\n",
       "    </tr>\n",
       "    <tr>\n",
       "      <th>4</th>\n",
       "      <td>2.0</td>\n",
       "      <td>2.0</td>\n",
       "      <td>1.0</td>\n",
       "      <td>1.0</td>\n",
       "      <td>2.0</td>\n",
       "      <td>1.0</td>\n",
       "      <td>NaN</td>\n",
       "      <td>0.0</td>\n",
       "      <td>0.0</td>\n",
       "    </tr>\n",
       "    <tr>\n",
       "      <th>...</th>\n",
       "      <td>...</td>\n",
       "      <td>...</td>\n",
       "      <td>...</td>\n",
       "      <td>...</td>\n",
       "      <td>...</td>\n",
       "      <td>...</td>\n",
       "      <td>...</td>\n",
       "      <td>...</td>\n",
       "      <td>...</td>\n",
       "    </tr>\n",
       "    <tr>\n",
       "      <th>8264</th>\n",
       "      <td>2.0</td>\n",
       "      <td>1.0</td>\n",
       "      <td>2.0</td>\n",
       "      <td>2.0</td>\n",
       "      <td>2.0</td>\n",
       "      <td>1.0</td>\n",
       "      <td>NaN</td>\n",
       "      <td>0.0</td>\n",
       "      <td>1.0</td>\n",
       "    </tr>\n",
       "    <tr>\n",
       "      <th>8265</th>\n",
       "      <td>2.0</td>\n",
       "      <td>2.0</td>\n",
       "      <td>NaN</td>\n",
       "      <td>NaN</td>\n",
       "      <td>NaN</td>\n",
       "      <td>NaN</td>\n",
       "      <td>NaN</td>\n",
       "      <td>NaN</td>\n",
       "      <td>NaN</td>\n",
       "    </tr>\n",
       "    <tr>\n",
       "      <th>8266</th>\n",
       "      <td>2.0</td>\n",
       "      <td>2.0</td>\n",
       "      <td>2.0</td>\n",
       "      <td>1.0</td>\n",
       "      <td>2.0</td>\n",
       "      <td>2.0</td>\n",
       "      <td>NaN</td>\n",
       "      <td>0.0</td>\n",
       "      <td>0.0</td>\n",
       "    </tr>\n",
       "    <tr>\n",
       "      <th>8267</th>\n",
       "      <td>1.0</td>\n",
       "      <td>2.0</td>\n",
       "      <td>2.0</td>\n",
       "      <td>2.0</td>\n",
       "      <td>2.0</td>\n",
       "      <td>2.0</td>\n",
       "      <td>2363.0</td>\n",
       "      <td>0.0</td>\n",
       "      <td>0.0</td>\n",
       "    </tr>\n",
       "    <tr>\n",
       "      <th>8268</th>\n",
       "      <td>2.0</td>\n",
       "      <td>2.0</td>\n",
       "      <td>2.0</td>\n",
       "      <td>2.0</td>\n",
       "      <td>2.0</td>\n",
       "      <td>2.0</td>\n",
       "      <td>2363.0</td>\n",
       "      <td>0.0</td>\n",
       "      <td>0.0</td>\n",
       "    </tr>\n",
       "  </tbody>\n",
       "</table>\n",
       "<p>8269 rows × 9 columns</p>\n",
       "</div>"
      ],
      "text/plain": [
       "      ADD2  AODD2  RALLG2  DALLG2  SALLG2  EARINF2  BMI_SC  RSCL2_E2  RSCL3_E3\n",
       "0      2.0    2.0     1.0     2.0     1.0      2.0  2687.0       1.0       0.0\n",
       "1      2.0    2.0     2.0     2.0     2.0      2.0     NaN       0.0       0.0\n",
       "2      2.0    2.0     2.0     2.0     2.0      2.0     NaN       NaN       NaN\n",
       "3      NaN    NaN     NaN     NaN     NaN      NaN     NaN       NaN       NaN\n",
       "4      2.0    2.0     1.0     1.0     2.0      1.0     NaN       0.0       0.0\n",
       "...    ...    ...     ...     ...     ...      ...     ...       ...       ...\n",
       "8264   2.0    1.0     2.0     2.0     2.0      1.0     NaN       0.0       1.0\n",
       "8265   2.0    2.0     NaN     NaN     NaN      NaN     NaN       NaN       NaN\n",
       "8266   2.0    2.0     2.0     1.0     2.0      2.0     NaN       0.0       0.0\n",
       "8267   1.0    2.0     2.0     2.0     2.0      2.0  2363.0       0.0       0.0\n",
       "8268   2.0    2.0     2.0     2.0     2.0      2.0  2363.0       0.0       0.0\n",
       "\n",
       "[8269 rows x 9 columns]"
      ]
     },
     "execution_count": 15,
     "metadata": {},
     "output_type": "execute_result"
    }
   ],
   "source": [
    "nan_col = [i for i, j in famchild.isnull().sum().items() if j >= 1]\n",
    "famchild[nan_col]"
   ]
  },
  {
   "cell_type": "code",
   "execution_count": 16,
   "id": "55501f49-fb29-4404-b2fb-4eb0dea22d0a",
   "metadata": {},
   "outputs": [],
   "source": [
    "# ADD2,AODD2,RALLG2,DALLG2,SALLG2,EARINF2 여기는 아니다 라고 대답한 2.0 으로 대체 \n",
    "# BMI 는 성별 평균값으로 대체 \n",
    "# RSCL2_E2,RSCL3_E3 여기는 1.0, 2.0 을  1.0으로 0,7.0,8.0,9.0 은 2.0으로 대체 "
   ]
  },
  {
   "cell_type": "code",
   "execution_count": 17,
   "id": "21bb291a-10d2-4fec-9a6f-b709d021c617",
   "metadata": {},
   "outputs": [
    {
     "ename": "KeyError",
     "evalue": "\"['FMEDBNOP'] not in index\"",
     "output_type": "error",
     "traceback": [
      "\u001b[1;31m---------------------------------------------------------------------------\u001b[0m",
      "\u001b[1;31mKeyError\u001b[0m                                  Traceback (most recent call last)",
      "Cell \u001b[1;32mIn[17], line 1\u001b[0m\n\u001b[1;32m----> 1\u001b[0m famchild[[\u001b[38;5;124m'\u001b[39m\u001b[38;5;124mADD2\u001b[39m\u001b[38;5;124m'\u001b[39m,\u001b[38;5;124m'\u001b[39m\u001b[38;5;124mAODD2\u001b[39m\u001b[38;5;124m'\u001b[39m,\u001b[38;5;124m'\u001b[39m\u001b[38;5;124mRALLG2\u001b[39m\u001b[38;5;124m'\u001b[39m,\u001b[38;5;124m'\u001b[39m\u001b[38;5;124mDALLG2\u001b[39m\u001b[38;5;124m'\u001b[39m,\u001b[38;5;124m'\u001b[39m\u001b[38;5;124mSALLG2\u001b[39m\u001b[38;5;124m'\u001b[39m,\u001b[38;5;124m'\u001b[39m\u001b[38;5;124mEARINF2\u001b[39m\u001b[38;5;124m'\u001b[39m,\u001b[38;5;124m'\u001b[39m\u001b[38;5;124mFMEDBNOP\u001b[39m\u001b[38;5;124m'\u001b[39m]] \u001b[38;5;241m=\u001b[39m \u001b[43mfamchild\u001b[49m\u001b[43m[\u001b[49m\u001b[43m[\u001b[49m\u001b[38;5;124;43m'\u001b[39;49m\u001b[38;5;124;43mADD2\u001b[39;49m\u001b[38;5;124;43m'\u001b[39;49m\u001b[43m,\u001b[49m\u001b[38;5;124;43m'\u001b[39;49m\u001b[38;5;124;43mAODD2\u001b[39;49m\u001b[38;5;124;43m'\u001b[39;49m\u001b[43m,\u001b[49m\u001b[38;5;124;43m'\u001b[39;49m\u001b[38;5;124;43mRALLG2\u001b[39;49m\u001b[38;5;124;43m'\u001b[39;49m\u001b[43m,\u001b[49m\u001b[38;5;124;43m'\u001b[39;49m\u001b[38;5;124;43mDALLG2\u001b[39;49m\u001b[38;5;124;43m'\u001b[39;49m\u001b[43m,\u001b[49m\u001b[38;5;124;43m'\u001b[39;49m\u001b[38;5;124;43mSALLG2\u001b[39;49m\u001b[38;5;124;43m'\u001b[39;49m\u001b[43m,\u001b[49m\u001b[38;5;124;43m'\u001b[39;49m\u001b[38;5;124;43mEARINF2\u001b[39;49m\u001b[38;5;124;43m'\u001b[39;49m\u001b[43m,\u001b[49m\u001b[38;5;124;43m'\u001b[39;49m\u001b[38;5;124;43mFMEDBNOP\u001b[39;49m\u001b[38;5;124;43m'\u001b[39;49m\u001b[43m]\u001b[49m\u001b[43m]\u001b[49m\u001b[38;5;241m.\u001b[39mfillna(\u001b[38;5;241m2.0\u001b[39m)\n\u001b[0;32m      3\u001b[0m famchild[[\u001b[38;5;124m'\u001b[39m\u001b[38;5;124mRSCL2_E2\u001b[39m\u001b[38;5;124m'\u001b[39m,\u001b[38;5;124m'\u001b[39m\u001b[38;5;124mRSCL3_E3\u001b[39m\u001b[38;5;124m'\u001b[39m]] \u001b[38;5;241m=\u001b[39m famchild[[\u001b[38;5;124m'\u001b[39m\u001b[38;5;124mRSCL2_E2\u001b[39m\u001b[38;5;124m'\u001b[39m,\u001b[38;5;124m'\u001b[39m\u001b[38;5;124mRSCL3_E3\u001b[39m\u001b[38;5;124m'\u001b[39m]]\u001b[38;5;241m.\u001b[39mfillna(\u001b[38;5;241m0\u001b[39m)\n",
      "File \u001b[1;32m~\\AppData\\Roaming\\Python\\Python310\\site-packages\\pandas\\core\\frame.py:3813\u001b[0m, in \u001b[0;36mDataFrame.__getitem__\u001b[1;34m(self, key)\u001b[0m\n\u001b[0;32m   3811\u001b[0m     \u001b[38;5;28;01mif\u001b[39;00m is_iterator(key):\n\u001b[0;32m   3812\u001b[0m         key \u001b[38;5;241m=\u001b[39m \u001b[38;5;28mlist\u001b[39m(key)\n\u001b[1;32m-> 3813\u001b[0m     indexer \u001b[38;5;241m=\u001b[39m \u001b[38;5;28;43mself\u001b[39;49m\u001b[38;5;241;43m.\u001b[39;49m\u001b[43mcolumns\u001b[49m\u001b[38;5;241;43m.\u001b[39;49m\u001b[43m_get_indexer_strict\u001b[49m\u001b[43m(\u001b[49m\u001b[43mkey\u001b[49m\u001b[43m,\u001b[49m\u001b[43m \u001b[49m\u001b[38;5;124;43m\"\u001b[39;49m\u001b[38;5;124;43mcolumns\u001b[39;49m\u001b[38;5;124;43m\"\u001b[39;49m\u001b[43m)\u001b[49m[\u001b[38;5;241m1\u001b[39m]\n\u001b[0;32m   3815\u001b[0m \u001b[38;5;66;03m# take() does not accept boolean indexers\u001b[39;00m\n\u001b[0;32m   3816\u001b[0m \u001b[38;5;28;01mif\u001b[39;00m \u001b[38;5;28mgetattr\u001b[39m(indexer, \u001b[38;5;124m\"\u001b[39m\u001b[38;5;124mdtype\u001b[39m\u001b[38;5;124m\"\u001b[39m, \u001b[38;5;28;01mNone\u001b[39;00m) \u001b[38;5;241m==\u001b[39m \u001b[38;5;28mbool\u001b[39m:\n",
      "File \u001b[1;32m~\\AppData\\Roaming\\Python\\Python310\\site-packages\\pandas\\core\\indexes\\base.py:6070\u001b[0m, in \u001b[0;36mIndex._get_indexer_strict\u001b[1;34m(self, key, axis_name)\u001b[0m\n\u001b[0;32m   6067\u001b[0m \u001b[38;5;28;01melse\u001b[39;00m:\n\u001b[0;32m   6068\u001b[0m     keyarr, indexer, new_indexer \u001b[38;5;241m=\u001b[39m \u001b[38;5;28mself\u001b[39m\u001b[38;5;241m.\u001b[39m_reindex_non_unique(keyarr)\n\u001b[1;32m-> 6070\u001b[0m \u001b[38;5;28;43mself\u001b[39;49m\u001b[38;5;241;43m.\u001b[39;49m\u001b[43m_raise_if_missing\u001b[49m\u001b[43m(\u001b[49m\u001b[43mkeyarr\u001b[49m\u001b[43m,\u001b[49m\u001b[43m \u001b[49m\u001b[43mindexer\u001b[49m\u001b[43m,\u001b[49m\u001b[43m \u001b[49m\u001b[43maxis_name\u001b[49m\u001b[43m)\u001b[49m\n\u001b[0;32m   6072\u001b[0m keyarr \u001b[38;5;241m=\u001b[39m \u001b[38;5;28mself\u001b[39m\u001b[38;5;241m.\u001b[39mtake(indexer)\n\u001b[0;32m   6073\u001b[0m \u001b[38;5;28;01mif\u001b[39;00m \u001b[38;5;28misinstance\u001b[39m(key, Index):\n\u001b[0;32m   6074\u001b[0m     \u001b[38;5;66;03m# GH 42790 - Preserve name from an Index\u001b[39;00m\n",
      "File \u001b[1;32m~\\AppData\\Roaming\\Python\\Python310\\site-packages\\pandas\\core\\indexes\\base.py:6133\u001b[0m, in \u001b[0;36mIndex._raise_if_missing\u001b[1;34m(self, key, indexer, axis_name)\u001b[0m\n\u001b[0;32m   6130\u001b[0m     \u001b[38;5;28;01mraise\u001b[39;00m \u001b[38;5;167;01mKeyError\u001b[39;00m(\u001b[38;5;124mf\u001b[39m\u001b[38;5;124m\"\u001b[39m\u001b[38;5;124mNone of [\u001b[39m\u001b[38;5;132;01m{\u001b[39;00mkey\u001b[38;5;132;01m}\u001b[39;00m\u001b[38;5;124m] are in the [\u001b[39m\u001b[38;5;132;01m{\u001b[39;00maxis_name\u001b[38;5;132;01m}\u001b[39;00m\u001b[38;5;124m]\u001b[39m\u001b[38;5;124m\"\u001b[39m)\n\u001b[0;32m   6132\u001b[0m not_found \u001b[38;5;241m=\u001b[39m \u001b[38;5;28mlist\u001b[39m(ensure_index(key)[missing_mask\u001b[38;5;241m.\u001b[39mnonzero()[\u001b[38;5;241m0\u001b[39m]]\u001b[38;5;241m.\u001b[39munique())\n\u001b[1;32m-> 6133\u001b[0m \u001b[38;5;28;01mraise\u001b[39;00m \u001b[38;5;167;01mKeyError\u001b[39;00m(\u001b[38;5;124mf\u001b[39m\u001b[38;5;124m\"\u001b[39m\u001b[38;5;132;01m{\u001b[39;00mnot_found\u001b[38;5;132;01m}\u001b[39;00m\u001b[38;5;124m not in index\u001b[39m\u001b[38;5;124m\"\u001b[39m)\n",
      "\u001b[1;31mKeyError\u001b[0m: \"['FMEDBNOP'] not in index\""
     ]
    }
   ],
   "source": [
    "famchild[['ADD2','AODD2','RALLG2','DALLG2','SALLG2','EARINF2','FMEDBNOP']] = famchild[['ADD2','AODD2','RALLG2','DALLG2','SALLG2','EARINF2','FMEDBNOP']].fillna(2.0)\n",
    "\n",
    "famchild[['RSCL2_E2','RSCL3_E3']] = famchild[['RSCL2_E2','RSCL3_E3']].fillna(0)"
   ]
  },
  {
   "cell_type": "code",
   "execution_count": null,
   "id": "f95d52b3-afa5-4c08-a1fc-766b6cb861de",
   "metadata": {},
   "outputs": [],
   "source": [
    "boy_mean = round(famchild['BMI_SC'][famchild['SEX']==1].mean(),-1)\n",
    "girl_mean = round(famchild['BMI_SC'][famchild['SEX']==2].mean(),-1)\n",
    "\n",
    "famchild.loc[(famchild['SEX'] == 1) & (famchild['BMI_SC'].isna()), 'BMI_SC'] = boy_mean\n",
    "famchild.loc[(famchild['SEX'] == 2) & (famchild['BMI_SC'].isna()), 'BMI_SC'] = girl_mean\n",
    "\n",
    "famchild.loc[(famchild['SEX'] == 1) & ((famchild['BMI_SC'] == 9999) | (famchild['BMI_SC'] <= 1000)),'BMI_SC'] = boy_mean\n",
    "famchild.loc[(famchild['SEX'] == 2) & ((famchild['BMI_SC'] == 9999) | (famchild['BMI_SC'] <= 1000)),'BMI_SC'] = girl_mean"
   ]
  },
  {
   "cell_type": "code",
   "execution_count": null,
   "id": "fdfdf9cd-0eb1-4eeb-93cb-646859eaaf97",
   "metadata": {},
   "outputs": [],
   "source": [
    "famchild.isnull().sum()"
   ]
  },
  {
   "cell_type": "code",
   "execution_count": null,
   "id": "f94649ff-f2ae-4cbb-9f31-1c8617c0d2ab",
   "metadata": {},
   "outputs": [],
   "source": [
    "famchild_target = famchild['CCONDRR6']"
   ]
  },
  {
   "cell_type": "markdown",
   "id": "e189ad02-c764-4a39-a930-bfd337155993",
   "metadata": {},
   "source": [
    "# famadult"
   ]
  },
  {
   "cell_type": "code",
   "execution_count": 18,
   "id": "b9db0224-a8f3-4c8c-9991-282ad52cb4fe",
   "metadata": {},
   "outputs": [],
   "source": [
    "import matplotlib.pyplot as plt "
   ]
  },
  {
   "cell_type": "code",
   "execution_count": 19,
   "id": "62eef207-82b0-459d-b85f-8c50f66fcd93",
   "metadata": {},
   "outputs": [
    {
     "data": {
      "text/plain": [
       "['PREGNOW',\n",
       " 'AFLHC19_',\n",
       " 'AFLHC22_',\n",
       " 'AFLHC24_',\n",
       " 'AFLHC29_',\n",
       " 'AFLHC30_',\n",
       " 'AFLHC34_',\n",
       " 'AFLHCA1',\n",
       " 'AFLHCA10',\n",
       " 'AFLHCA11',\n",
       " 'AFLHCA12',\n",
       " 'AFLHCA13',\n",
       " 'AFLHCA17',\n",
       " 'AFLHCA18',\n",
       " 'AFLHCA2',\n",
       " 'AFLHCA3',\n",
       " 'AFLHCA4',\n",
       " 'AFLHCA5',\n",
       " 'AFLHCA7',\n",
       " 'AFLHCA8',\n",
       " 'AFLHCA9']"
      ]
     },
     "execution_count": 19,
     "metadata": {},
     "output_type": "execute_result"
    }
   ],
   "source": [
    "# FAMADULT 결측치 시작 \n",
    "nan_col2 = [i for i, j in famadult.isnull().sum().items() if j >= 1]\n",
    "nan_col2"
   ]
  },
  {
   "cell_type": "code",
   "execution_count": 20,
   "id": "57d7eaca-50b3-4cce-b914-943967af0ebe",
   "metadata": {},
   "outputs": [
    {
     "data": {
      "image/png": "iVBORw0KGgoAAAANSUhEUgAAAgkAAAGbCAYAAABOJAMtAAAAOXRFWHRTb2Z0d2FyZQBNYXRwbG90bGliIHZlcnNpb24zLjYuMCwgaHR0cHM6Ly9tYXRwbG90bGliLm9yZy89olMNAAAACXBIWXMAAA9hAAAPYQGoP6dpAABHQElEQVR4nO3dd1hUZ/428HuG3nsRQRBEqkbFktggapolJmosMWvM/syatunN8iZqmqZoymaT1U1iYswmcdP72jBggr13UBQQQar0Nuf944SJIwMMzJl5ptyf65pLnTnz8B1A5uapKkmSJBARERFdQS26ACIiIrJMDAlERESkF0MCERER6cWQQERERHoxJBAREZFeDAlERESkF0MCERER6cWQQERERHoxJBAREZFeDAlEFuznn3/GgAED4OrqCpVKhYqKCrN+/LS0NKSlpZn1Y1q69PR0qFQqpKenG3ztf//7X9MXRmQCDAl2Yu3atVCpVNqbq6sr+vbtiwceeABFRUWiyzPa0aNHsWTJEuTm5oouRTGlpaWYPn063Nzc8Pbbb2PdunXw8PDo8Dk5OTmYP38+oqOj4erqCm9vb4wYMQJvvPEG6urqzFS5/fnkk0/w+uuvK95u6/9bV1dXFBQUtHk8LS0NycnJ3Wo7LS0NKpUKkyZNavNYbm4uVCoVXn311W61TbbDUXQBZF7Lli1D7969UV9fj8zMTLzzzjv48ccfcfjwYbi7u4sur9uOHj2KpUuXIi0tDVFRUaLLUcSuXbtQVVWF5557DuPGjev0+h9++AG33XYbXFxcMGfOHCQnJ6OxsRGZmZl44okncOTIEaxevdoMldu20aNHo66uDs7Oztr7PvnkExw+fBgPP/ywST5mQ0MDli9fjrfeekvxtr///nvs2bMHKSkpirdN1o8hwc7cdNNNGDx4MABg3rx5CAgIwMqVK/HNN99g1qxZRrVdW1tr1UHD0hQXFwMAfH19O732zJkzmDlzJiIjI7Flyxb06NFD+9j999+P7Oxs/PDDD6Yq1a6o1Wq4urqa9WMOGDAAa9aswYIFCxAWFqZYu7169UJVVRWWLl2Kb7/9VrF2yXZwuMHOjRkzBoD8JtPq448/RkpKCtzc3ODv74+ZM2ciLy9P53mt3Zx79uzB6NGj4e7ujoULFwIA6uvrsWTJEvTt2xeurq7o0aMHpkyZgpycHO3zNRoNXn/9dSQlJcHV1RUhISGYP38+ysvLdT5OVFQUJk6ciMzMTAwdOhSurq6Ijo7GRx99pL1m7dq1uO222wAA1157rXZIpXXM+JtvvsGECRMQFhYGFxcXxMTE4LnnnkNLS0ubz8fbb7+N6OhouLm5YejQocjIyNA7Lt/Q0IBnn30Wffr0gYuLCyIiIvDkk0+ioaHBoM/7hg0btJ/jwMBA3HHHHTrdyWlpabjzzjsBAEOGDIFKpcLcuXPbbe/ll19GdXU13nvvPZ2A0KpPnz546KGHtP9ubm7Gc889h5iYGLi4uCAqKgoLFy7stP7W7u8rh3X0jdO3fo8cPHgQqampcHd3R58+fbTj89u2bcOwYcPg5uaGuLg4bNq0SafNJUuWQKVSITs7G3PnzoWvry98fHxw1113oba2VufajRs3YuTIkfD19YWnpyfi4uK034/tmTJlCgYNGqRz36RJk6BSqXTeMHfs2AGVSoWffvpJ72tNS0vDDz/8gLNnz2q/967szdJoNHjhhRcQHh4OV1dXjB07FtnZ2R3Wd7mFCxeipaUFy5cv7/TaDz74AGPGjEFwcDBcXFyQmJiId955R++1Xl5eeOSRR/Ddd99h7969BtdD9oMhwc61vnEHBAQAAF544QXMmTMHsbGxWLlyJR5++GFs3rwZo0ePbjNprrS0FDfddBMGDBiA119/Hddeey1aWlowceJELF26FCkpKXjttdfw0EMPobKyEocPH9Y+d/78+XjiiSe04+V33XUX1q9fjxtuuAFNTU06Hyc7OxvTpk3Dddddh9deew1+fn6YO3cujhw5AkDu/n3wwQcByD9M161bh3Xr1iEhIQGA/Mbm6emJRx99FG+88QZSUlLwzDPP4Omnn9b5OO+88w4eeOABhIeH4+WXX8aoUaNwyy23ID8/X+c6jUaDm2++Ga+++iomTZqEt956C7fccgtWrVqFGTNmdPo5X7t2LaZPnw4HBwe89NJLuPvuu/Hll19i5MiR2s/xokWL8Le//Q2APES0bt06zJ8/v902v/vuO0RHR2P48OGdfnxA7kV65plnMGjQIKxatQqpqal46aWXMHPmTIOeb6jy8nJMnDgRw4YNw8svvwwXFxfMnDkTn332GWbOnInx48dj+fLlqKmpwbRp01BVVdWmjenTp6OqqgovvfQSpk+fjrVr12Lp0qXax48cOYKJEyeioaEBy5Ytw2uvvYabb74Z27dv77C2UaNG4cCBA7h06RIAQJIkbN++HWq1GhkZGdrrMjIyoFarMWLECL3tLFq0CAMGDEBgYKD2e+/K+QnLly/HV199hccffxwLFixAVlYWZs+ebeinEb1798acOXOwZs0anD9/vsNr33nnHURGRmLhwoV47bXXEBERgfvuuw9vv/223usfeugh+Pn5YcmSJQbXQ3ZEIrvwwQcfSACkTZs2SRcvXpTy8vKkTz/9VAoICJDc3Nyk/Px8KTc3V3JwcJBeeOEFneceOnRIcnR01Lk/NTVVAiC9++67Ote+//77EgBp5cqVbWrQaDSSJElSRkaGBEBav369zuM///xzm/sjIyMlANKvv/6qva+4uFhycXGRHnvsMe19GzZskABIW7dubfNxa2tr29w3f/58yd3dXaqvr5ckSZIaGhqkgIAAaciQIVJTU5P2urVr10oApNTUVO1969atk9RqtZSRkaHT5rvvvisBkLZv397m47VqbGyUgoODpeTkZKmurk57//fffy8BkJ555hntfa1fs127drXbniRJUmVlpQRAmjx5cofXtdq/f78EQJo3b57O/Y8//rgEQNqyZYv2vtTUVJ3X3lrTmTNndJ67devWNp//1u+RTz75RHvf8ePHJQCSWq2WsrKytPf/8ssvEgDpgw8+0N737LPPSgCkv/71rzof69Zbb5UCAgK0/161apUEQLp48aJBr7/Vrl27JADSjz/+KEmSJB08eFACIN12223SsGHDtNfdfPPN0sCBAzt8rRMmTJAiIyPbfIzWaxMSEqSGhgbt/W+88YYEQDp06FCHNV7+PZCTkyM5OjpKDz74oPbx1NRUKSkpSec5+r7fb7jhBik6Olrnvsufu3TpUgmAtGfPHkmSJOnMmTMSAOmVV17psD6yfexJsDPjxo1DUFAQIiIiMHPmTHh6euKrr75Cz5498eWXX0Kj0WD69OkoKSnR3kJDQxEbG4utW7fqtOXi4oK77rpL574vvvgCgYGB+Pvf/97mY6tUKgByV7uPjw+uu+46nY+TkpICT0/PNh8nMTERo0aN0v47KCgIcXFxOH36tEGv2c3NTfv3qqoqlJSUYNSoUaitrcXx48cBALt370ZpaSnuvvtuODr+OVVn9uzZ8PPz02lvw4YNSEhIQHx8vE79rUM3V9Z/ud27d6O4uBj33Xefzrj2hAkTEB8f3615A62/CXt5eRl0/Y8//ggAePTRR3Xuf+yxxwBA0bkLnp6eOr0TcXFx8PX1RUJCAoYNG6a9v/Xv+r6m99xzj86/R40ahdLSUu3rbp2z8c0330Cj0Rhc28CBA+Hp6Ylff/0VgNxjEB4ejjlz5mDv3r2ora2FJEnIzMzU+f7rjrvuuktnomNre4Z+DwNAdHQ0/vKXv2D16tUoLCxs97rLv98rKytRUlKC1NRUnD59GpWVlXqf09qbcHkPDRHAiYt25+2330bfvn3h6OiIkJAQxMXFQa2Ws+KpU6cgSRJiY2P1PtfJyUnn3z179tT5wQfIwxdxcXE6b7RXOnXqFCorKxEcHKz38dYJe6169erV5ho/P7828xfac+TIESxevBhbtmzRvrG0av2hefbsWQDy2P3lHB0d24wvnzp1CseOHUNQUJBB9V+u9ePExcW1eSw+Ph6ZmZkdvxg9vL29AUBvV317NajV6javNTQ0FL6+vtoalRAeHq4Nh618fHwQERHR5j4Aer+mV379W0NbeXk5vL29MWPGDPz73//GvHnz8PTTT2Ps2LGYMmUKpk2bpv3e1sfBwQHXXHONdmghIyMDo0aNwsiRI9HS0oKsrCyEhISgrKzM6JDQ0WvoisWLF2PdunVYvnw53njjDb3XbN++Hc8++yx+//33NnM3KisrtZ/ry/n4+ODhhx/Gs88+i3379rUJxmS/GBLszNChQ7WrG66k0Wi0E7QcHBzaPO7p6anz78t/Y+kKjUaD4OBgrF+/Xu/jV7756qsFkMeQO1NRUYHU1FR4e3tj2bJliImJgaurK/bu3YunnnqqS795Xl5/v379sHLlSr2PX/kGaGre3t4ICwvTmfNhiCvfvI15jr5JoED7X7uufE07u9bNzQ2//vortm7dih9++AE///wzPvvsM4wZMwb/+9//2n0+AIwcORIvvPAC6uvrkZGRgUWLFsHX1xfJycnIyMhASEgIABgdEoz5Hr5cdHQ07rjjDqxevbrNnBpADuljx45FfHw8Vq5ciYiICDg7O+PHH3/EqlWrOvx+f+ihh7Bq1SosXbrUJHs+kHViSCCtmJgYSJKE3r17o2/fvt1uY8eOHWhqamrT83D5NZs2bcKIESO6HTSu1N6bV3p6OkpLS/Hll19i9OjR2vsvX80BAJGRkQDkSZLXXnut9v7m5mbk5uaif//+OvUfOHAAY8eO7fIbbevHOXHihHZ4otWJEye0j3fVxIkTsXr1avz++++45pprOq1Bo9Hg1KlT2smdAFBUVISKiooOa2j9DfPKSaxK9j50h1qtxtixYzF27FisXLkSL774IhYtWoStW7d2uMfEqFGj0NjYiP/85z8oKCjQhoHRo0drQ0Lfvn21YaE93Qlc3bV48WJ8/PHHWLFiRZvHvvvuOzQ0NODbb7/V6b3oaAisVWtvwpIlS7Qra4g4J4G0pkyZAgcHByxdurTNbziSJKG0tLTTNqZOnYqSkhL84x//aPNYa5vTp09HS0sLnnvuuTbXNDc3d2vr4dadCK98butvcJe/nsbGRvzzn//UuW7w4MEICAjAmjVr0NzcrL1//fr1bbqEp0+fjoKCAqxZs6ZNHXV1daipqWm3zsGDByM4OBjvvvuuznLDn376CceOHcOECRM6eaX6Pfnkk/Dw8MC8efP07qCZk5Oj7Z4eP348ALT5bbG1Z6SjGmJiYgBAO44PyL0IIjdpKisra3PfgAEDAKDTJZ3Dhg2Dk5MTVqxYAX9/fyQlJQGQw0NWVha2bdtmUC+Ch4dHu+P9SouJicEdd9yBf/3rX7hw4YLOY/q+3ysrK/HBBx8Y1PbDDz8MX19fLFu2TLmCyaqxJ4G0YmJi8Pzzz2PBggXIzc3FLbfcAi8vL5w5cwZfffUV/va3v+Hxxx/vsI05c+bgo48+wqOPPoqdO3di1KhRqKmpwaZNm3Dfffdh8uTJSE1Nxfz58/HSSy9h//79uP766+Hk5IRTp05hw4YNeOONNzBt2rQu1T5gwAA4ODhgxYoVqKyshIuLC8aMGYPhw4fDz88Pd955Jx588EGoVCqsW7euTQhydnbGkiVL8Pe//x1jxozB9OnTkZubi7Vr1yImJkbnN8W//OUv+Pzzz3HPPfdg69atGDFiBFpaWnD8+HF8/vnn+OWXX9od0ml9Q7rrrruQmpqKWbNmoaioCG+88QaioqLwyCOPdOl1t4qJicEnn3yCGTNmICEhQWfHxd9++w0bNmzQ7rNw1VVX4c4778Tq1au1wzE7d+7Ehx9+iFtuuUWnJ+VKSUlJuPrqq7FgwQKUlZXB398fn376qU6wMrdly5bh119/xYQJExAZGYni4mL885//RHh4OEaOHNnhc93d3ZGSkoKsrCztHgmA3JNQU1ODmpoag0JCSkoKPvvsMzz66KMYMmQIPD099W53rJRFixZh3bp1OHHihDbYAMD1118PZ2dnTJo0CfPnz0d1dTXWrFmD4ODgDic7tvLx8cFDDz3ECYz0JyFrKsjsDF1OJ0mS9MUXX0gjR46UPDw8JA8PDyk+Pl66//77pRMnTmiv0bf0qlVtba20aNEiqXfv3pKTk5MUGhoqTZs2TcrJydG5bvXq1VJKSork5uYmeXl5Sf369ZOefPJJ6fz589prIiMjpQkTJrT5GFcuzZMkSVqzZo0UHR0tOTg46CxR2759u3T11VdLbm5uUlhYmPTkk09ql9xduWTyzTfflCIjIyUXFxdp6NCh0vbt26WUlBTpxhtv1LmusbFRWrFihZSUlCS5uLhIfn5+UkpKirR06VKpsrKys0+x9Nlnn0kDBw6UXFxcJH9/f2n27NlSfn6+zjVd+Zq1OnnypHT33XdLUVFRkrOzs+Tl5SWNGDFCeuutt7TLPSVJkpqamqSlS5dqv0YRERHSggULdK6RJP2f55ycHGncuHGSi4uLFBISIi1cuFDauHGj3iWQ+r5H2vuaApDuv/9+7b9bl0BeubTxymWYmzdvliZPniyFhYVJzs7OUlhYmDRr1izp5MmTBn3OnnjiCQmAtGLFCp37+/TpIwFo832rbwlkdXW1dPvtt0u+vr4SAO1yyNZrN2zYoNNG6xLDy5d86tPR98Cdd94pAWjzOf7222+l/v37S66urlJUVJS0YsUK7dLky5eutvf1KS8vl3x8fLgEkiRJkiSVJHVx5gyRHdFoNAgKCsKUKVP0Di8QEdkyzkkg+kN9fX2bYYiPPvoIZWVlPC6ZiOwSexKI/pCeno5HHnkEt912GwICArB371689957SEhIwJ49e9rsCUFEZOs4cZHoD1FRUYiIiMCbb76pnZQ3Z84cLF++nAGBiOwSexKIiIhIL85JICIiIr0YEoiIiEgvhgQiIiLSiyGBiIiI9GJIICIiIr0YEoiIiEgvhgQiIiLSiyGBiIiI9GJIICIiIr0YEoiIiEgvhgQiIiLSiyGBiIiI9GJIICIiIr0YEoiIiEgvhgQiIiLSiyGBiIiI9GJIICIiIr0YEoiIiEgvhgQiIiLSy1F0AURk+T45BJytBBxUgPqPm4P6jz9VgLsT4OUCeLsA3s6At+sff7oAns6ASiX6FRBRdzAkEFGnimqA3IruPVetArz+CAxXBgkfFyDEAwjzApwcFC2ZiBTAkEBkTTQaoLFRvjU1ybfWv7f+2dwsX9d6vbc3EB8vrmQJqGyQb+1Rq+SwEO4t33p6yX/6uZmvTiJqiyGByFI0NgLV1UBNje6ttvbPv9fXd73dnj2FhgRDaCSgsFq+7Tr/5/0eTpcFB28gwhvo4cleByJzYUggMrfaWqCiAigv1/2ztlZwYZanpgk4USrfWrX2OkT6APFBQGIg4OMqrkYiW8aQQGQqkiS/+RcXy7eyMvnfDR30u1OnLu91yCqQ7wv3AhKD5Fsff/Y0ECmFIYFIKfX1fwaCoiLg4kV5CIFMLr9Kvv3vNODsAMT6y4EhKQjo4SW6OiLrxZBA1F319UBBAZCfDxQWApcuia6IADS2AEcuyrcNAPxc/wwM8YGAh7PoComsB0MCkaE0GuDCBTkUFBQAJSXykAJZtPJ6YHuefFMBiPIFBocBw3rKSzKJqH0MCUQdqakBcnOBvDy5t6CpSXRFZAQJwJkK+fblMSA5GLgmHOgfIm8ORUS6GBKIrlRTA5w+Ld+KikRXQybSIgEHiuSbpzMwNAy4JgLo5SO6MiLLwZBABMj7E5w5w2Bgp6obgS258i3cW+5d4HAEEUMC2bPGRuDUKSA7m8GAtPIvARuOcjiCCGBIIHtUWAgcPy73HDQ3i66GLFSb4YiewNjeQKC76MqIzIchgexDXR1w8iRw4oS8oRFRF1Q3AlvOAOm5cli4qQ8Q6im6KiLTY0gg21ZQABw9Cpw9++ehR0TdpJGArHxgRz4wsIccFjjRkWwZQwLZnpYWeZ7BoUPyVshECpMA7C2Ub8lBwE2x8nbQRLaGIYFsR0MDcOSIfKurE10N2YnDF+VbX385LCQGia6ISDkMCWT9qqvlXoPjx7nZEQlzsgw4uUPe0fGmPsBVIYBKJboqIuMwJJD1qqoC9u6VlzFyvgFZiNwK4J3dQE8v4MY+8hbQaoYFslIMCWR9amuBffuAY8cYDshiFVQB7+0DfskGZiYDsQGiKyLqOoYEsh719cCBA/KcA+5vQFYivwp49Xd56eS0BMDHVXRFRIZjSCDL19gozzk4dEj+O5EV2lkAHCwCJsYCY3pzB0eyDgwJZLk0GnmPg7175V4EIitX3wz895h8bPXMZCA+UHRFRB1jSCDLdP48sH07UF4uuhIixRVWA6uygJQewG2JgJ+b6IqI9GNIIMtSXQ1kZcmnMRLZuD2FwOFieX+F66IBRw5BkIVhSCDL0NIiT0rcv5+TEsmuNLQAXx8HfssDZiTJJ08SWQqGBBLv7Fng99+BS5dEV0IkTHEN8NZOeROmWckcgiDLwJBA4tTVAZmZ8pHNRARAPpo6uwy48yrgqlDR1ZC9Y0ggMXJy5ImJXLVA1EZNE/DP3UBaJDAtEXByEF0R2SuGBDIv9h4QGSz9LHCqDJg3CAjzEl0N2SPOpSXzyc4GNmxgQCDqgoIq4MUMYNtZ0ZWQPWJPApleXR2QkQHk5oquhMgqNWmATw4BRy8Cc/oDHs6iKyJ7wZBAplVQAGzZIgcFIjLK/gvA2QrgrwOBvjwwisyAww1kGhoNsGsX8OOPDAhECiqvB1b+Dnx7AtBIoqshW8eeBFJeTY3ce1BYKLoSIpskAfjhFHC8BPi/gUCAu+iKyFaxJ4GUde4c8MUXDAhEZpBTDjyfIe+tQGQKDAmkDI0G2LED+Pln7n1AZEa1TcA7u4CNPO6ETIDDDWS8ujpg40bgwgXRlRDZJQnAf48CRdXyls4O/PWPFMKQQMYpKwN++QWoqhJdCZHdyzgHXKwF5qcA7k6iqyFbwLxJ3Xf2LPDNNwwIRBbkeAmwPFM+MIrIWAwJ1D379wP/+x/Q1CS6EiK6QlGNHBRyykRXQtaOIYG6pqUFSE8Hdu4EJC7SJrJUNU3AqiyufCDjMCSQ4erqgO+/B06eFF0JERmgSQO8uxvIPCe6ErJWnLhIhrl0Sd498dIl0ZUQURdoJGDdQaCiHpjYV3Q1ZG3Yk0CdKysDvv2WAYHIin13Elh/iFs5U9cwJFDHioqA774DamtFV0JERvr1LLBmL4MCGY4hgdqXnw/88APQ0CC6EiJSyN5CYO1+BgUyDOckkH6nT8uHNGk0oishIoXtKACcHYA7+ouuhCwdQwK1dewYkJnJJY5ENizjnBwUpieJroQsGYcbSNfRo0BGBgMCkR3YfAb4+rjoKsiSMSTQn44fl3sQiMhu/JQt34j0YUgg2alTcg8CEdmdr48Dm3nUNOnBkEDyJMX0dA4xENmxDUe5MyO1xZBg73Jzgc2bGRCI7JwE4OODwI580ZWQJWFIsGfnzgGbNjEgEBEAOSisPSDvpUAEMCTYr8JCYONG7oNARDo0EvDePuBwsehKyBIwJNijsjLgl1/kY5+JiK7Q/MfpkbkVoish0RgS7E1NDfDTT0Bjo+hKiMiCtR4zXcVd2e0aQ4I9aWyUA0JNjehKiMgKlNcDq/cCLRyVtFsMCfZCo5EnKZaVia6EiKzIyVLgv8dEV0GiMCTYi8xM+VRHIqIu2nIGyOKPD7vEkGAPDhyQt1wmIuqmjw8C5ypFV0HmxpBg686dA3buFF0FEVm51omM1ZzzbFcYEmzZpUvA1q3cLImIFFFaB6zeI++lQPaBIcFWNTfLmyU1cP0SESnnRCnw36OiqyBzYUiwVZmZQGmp6CqIyAZtPsMzHuwFQ4ItOnoUOHlSdBVEZMPWHQTyOJHR5jEk2JriYuC330RXQUQ2rkkDvMOJjDaPIcGW1NXx0CYiMpvSOuCTQ6KrIFNiSLAl6enccpmIzGpPIY+WtmUMCbbiyBEgL090FURkh/5zmMMOtoohwRZUVABZWaKrICI7dakB+OyI6CrIFBgSrJ1GA2zZArS0iK6EiOzYzgLgwAXRVZDSGBKs3Z49QEmJ6CqIiLD+EFDDYQebwpBgzS5cAPbvF10FEREAoLIB2MDdGG0KQ4K1amzkuQxEZHF+zwcOFYmugpTCkGCtsrKAqirRVRARtbH+EFDXJLoKUgJDgjW6cAE4flx0FUREepXXc9jBVjAkWBuNBsjIEF0FEVGHtucBRy+KroKMxZBgbQ4cAMrLRVdBRNSpdQeB+mbRVZAxGBKsyaVLwN69oqsgIjJIWR3wzQnRVZAxGBKsyfbt3DSJiKzKr2eBklrRVVB3MSRYi5wcns1ARFanWQN8zXnWVoshwRo0NgK//Sa6CiKibtl9HjhXKboK6g6GBGuwdy9QVye6CiKibpEAfHlMdBXUHQwJlq6qSj4GmojIih0rAY5xSaTVYUiwdLt2cbIiEdmEL49zJ3lrw5BgyS5eBLKzRVdBRKSIc5XArvOiq6CuYEiwZFlZoisgIlLUNyeAFo3oKshQDAmW6uxZoLBQdBVERIoqqQW2nRVdBRmKIcESaTTAjh2iqyAiMokfT3G7ZmvBkGCJTpwAKipEV0FEZBJVjcD/ckRXQYZgSLA0Gg2wb5/oKoiITGrTaeBSg+gqqDMMCZbm5Emgulp0FUREJtXQAvx0SnQV1BmGBEui0chHQRMR2YHf8oG6JtFVUEcYEizJ6dNAJTc4JyL7UN8M/MZz6ywaQ4KlkCTORSAiu5Oey10YLRlDgqXIzQXKy0VXQURkVsW1wOFi0VVQexgSLAV7EYjITm3JFV0BtYchwRLk5QElJaKrICIS4thF4AIXdVkkhgRLcOiQ6AqIiISRAGw5I7oK0ochQbTKSiA/X3QVRERCZXE5pEViSBDtyBHRFRARCdfQAmznckiLw5AgUnOzvMMiEREhPRfQcDmkRWFIEOnUKaCxUXQVREQW4WItcIjLIS0KQ4JIR4+KroCIyKJwAqNlYUgQ5cIFoLRUdBVERBbleAlwvkp0FdSKIUEUTlgkItKL5zlYDoYEERoa5G2YiYiojb2FoiugVgwJIpw+DbS0iK6CiMgildYBuRWiqyCAIUGM7GzRFRARWTT2JlgGhgRzq64GCvndT0TUkX38MWkRGBLMjb0IRESdKq4F8ipFV0EMCeZ26pToCoiIrMIe9iYIx5BgTqWlQHm56CqIiKzCvguiKyCGBHNiLwIRkcEuVHNjJdEYEswpJ0d0BUREVoVDDmIxJJjLxYtATY3oKoiIrAqXQorFkGAuZ8+KroCIyOqcr5KHHUgMhgRz4TbMRETdwt4EcRgSzKGqCigrE10FEZFVYkgQhyHBHM6dE10BEZHVyrsElNeJrsI+MSSYA0MCEZFRsrnFjBAMCabW3AycPy+6CiIiq5bNEVshGBJMrbCQx0ITERkphyFBCIYEUysoEF0BEZHVK6gC6ptFV2F/GBJMjcdCExEZTSMBZzgvwewYEkypqQkoKRFdBRGRTeDkRfNjSDCloiJAkkRXQURkEzgvwfwYEkzpAs85JSJSypkKediBzIchwZQ4H4GISDH1zUDBJdFV2BeGBFNpaQGKi0VXQURkUzgvwbwYEkzl4kXuj0BEpDDOSzAvhgRT4XwEIiLF5bAnwawYEkyFSx+JiBRXVsfDnsyJIcFUSktFV0BEZJNEzUtYu3YtfH19O71OpVLh66+/Nnk95sCQYArNzcAlTsElIjKFfEE/XmfMmIGTJ09q/71kyRIMGDBAkbbT0tKgUqnw6aef6tz/+uuvIyoqSlhbDAmmUFbGTZSIiEykqFrMx3Vzc0NwcLDJ2nd1dcXixYvR1NRkMW0xJJgC5yMQEZlMUY0y7Xz//ffw9fVFyx8r0fbv3w+VSoWnn35ae828efNwxx13ANAdbli7di2WLl2KAwcOQKVSQaVSYe3atdrnlZSU4NZbb4W7uztiY2Px7bffdlrPrFmzUFFRgTVr1rR7TU5ODiZPnoyQkBB4enpiyJAh2LRpU7faMgRDgimUcY0OEZGpFNcos/PiqFGjUFVVhX379gEAtm3bhsDAQKSnp2uv2bZtG9LS0to8d8aMGXjssceQlJSEwsJCFBYWYsaMGdrHly5diunTp+PgwYMYP348Zs+ejbJO3hu8vb2xaNEiLFu2DDU1+pNQdXU1xo8fj82bN2Pfvn248cYbMWnSJJw7d67LbRmCIcEUOGmRiMhkmjVAaa3x7fj4+GDAgAHaUJCeno5HHnkE+/btQ3V1NQoKCpCdnY3U1NQ2z3Vzc4OnpyccHR0RGhqK0NBQuLm5aR+fO3cuZs2ahT59+uDFF19EdXU1du7c2WlN9913H1xdXbFy5Uq9j1911VWYP38+kpOTERsbi+eeew4xMTF6eyo6a8sQDAlKkyT2JBARmdgFheYlpKamIj09HZIkISMjA1OmTEFCQgIyMzOxbds2hIWFITY2tsvt9u/fX/t3Dw8PeHt7o9iAXXhdXFywbNkyvPrqqyjRM3RdXV2Nxx9/HAkJCfD19YWnpyeOHTvWpifBkLYMwZCgtOpq+YhoIiIyGaXmJaSlpSEzMxMHDhyAk5MT4uPjkZaWhvT0dGzbtk1vL4IhnJycdP6tUqmg0WgMeu4dd9yByMhIPP/8820ee/zxx/HVV1/hxRdfREZGBvbv349+/fqhsbGxy20ZgiFBaVz6SERkckqFhNZ5CatWrdIGgtaQkJ6ernc+QitnZ2ftpEclqdVqvPTSS3jnnXeQm5ur89j27dsxd+5c3HrrrejXrx9CQ0PbXGNoWwbV0uVnUMcYEoiITK5MgTkJAODn54f+/ftj/fr12kAwevRo7N27FydPnuywJyEqKgpnzpzB/v37UVJSgoaGBmWKAjBhwgQMGzYM//rXv3Tuj42NxZdffon9+/fjwIEDuP322zvtoWivLUMwJCitqkp0BURENq9Uwa2ZU1NT0dLSog0J/v7+SExMRGhoKOLi4tp93tSpU3HjjTfi2muvRVBQEP7zn/8oVxSAFStWoL6+Xue+lStXws/PD8OHD8ekSZNwww03YNCgQd1qyxAqSeKuP4ratAk4fVp0FUR/6tkTmDDBqCZWZQHHuf0HWRBnB+Ctm0RXYfscRRdgc9iTQETt2L9hOXZ+tADJNz+E4Xe/DgD4bkEaCg9v07ku4cb5GHX/u+22s3qSSu/9w+56GVdNeQItTQ3Y9uY8nN3xDdz9QjHi3n8ifMA47XUHvnwF1RfPYcT8t4x/UYI0tgBVDYCXi+hKbBtDgtIYEohIj+KTu3Ds53/BP6p/m8fib7gbg2cv0/7b0cW9w7bu+KhQ5995e37Ctjf/D72HTwUAHPt5NUpy9mDyK78jb89P2PLq7fjLuiKoVCpcunAGx39Zg1tX7VbgVYlVWseQYGqck6CkxkagG2M+RGTbmuqqsfW12Rj19zVw8fRr87ijizvc/UK1N2d37w7bu/xad79Q5GZ9g7B+18I7NBoAUJF3DJFDb4Z/ZBKSJtyP+sqLqL8kjxdlvnMvhs5d0enHsAZlPDLa5BgSlMReBCLSI/Pd+xExeIJOl//lstPX48PbA7Hh/mTs/HABmusNn7pfW16Ec7t/QPx1/6e9z7/3VbhwNBPNDXXI3/sL3P17wNU7EKfS18PByRW9r7nV6NdkCZScvEj6cbhBSUbsj01Etin7109RkrMXt67cpffxPqm3wzM4Eh7+YSjNPYida59CRcEJXL/wS4PaP7nlQzi7eSFq+BTtffHX/RVluQex4b5EuHoHYtyTn6Ohuhy71z+DSS+mY9e6xcjJ+BTeoTFIfeh9eAT0VOS1mluN/v2DSEEMCUriUAMRXab6Yh5+X/MQxi/bCEdnV73XJNz4N+3f/aP6wd2vB35YPBaXCnPg3SOm049xYuP76JM2W6d9taMTRt77ts516a/fheRJD6Lk9D7kZn2NqW8ewIEvXsb2fz2I6xd+0c1XKFZDs+gKbB+HG5TEkEBElynJ3oO6imJ8+fAgrJnsiDWTHVF4eBsOf/cm1kx2hEbPbn3BccMAAJWF2Z22X3gkA5UFJxB//bwOrzt/cCvKzx1B0oQHUHgoHRGDx8PJ1QPRI6ej8HB6d16aRWhQfrNDugJ7EpTEkEBElwm7aiym/eOQzn3bXr8LPuHxGDDtKagdHNo8p/T0fgCAu1+PTts/8b/3ENgnBQG9r2r3mubGemS+ez/GPLYeagcHSJoWtG6Po2lpgqSx3nfaevYkmBx7EpTEkEBEl3F294J/ZLLOzdHVA67eAfCPTMalwhzs/fQ5XMzeg6qiXOTu+BZbV81Bj6TRCOj951LJz+6Jx5nfv9Jpu7H2Ek5v39BpL8LeT59Dr5TxCIwZCAAISRiB3N+/ROmZgzjy/T8QkjBC+RduJo3Wm2+sBnsSlKTgvt1EZPvUjs4o2L8Jh759Hc31NfAIjEDv4VMxaMZinesqC06gsaZS576cXz+FJEnoM3pWu+2XnT2M05mfY+qb+7X3RY+YhsJD6fj26VHw7RmHMY9/ouRLMivOSTA9bsuspO++AwoLO7+OyJy4LTPZqF4+wKJRoquwbRxuUBKHG4iIzIY9CabHkKAkhgQiIrPh6gbTY0hQUlOT6AqIiOwGJy6aHkOCkjQa0RUQEdkNDjeYHkOCkhgSiIjMpkUCmtibYFIMCUrRs3MaERGZFuclmBZDglLYi0BEZHYccjAthgSlsCeBiMjs2JNgWgwJSmFPAtmwADfRFRDpp1aJrsC2MSQohSGBbFhSkOgKiPRzaXtGFimIIUEpDAlkqRobjW4iPpC/sZFlcuEJRCbFkEBk60pKjN4N1MMZiPJVphwiJbEnwbQYEpSi51x4IosgSUBBgdHNcMiBLI2DCnDgu5hJ8dOrFIYEsmR5eUY3wZBAloZDDabHkKAUR363kgXLzze6iUhfwMPJ+FKIlOLM381MjiFBKWp+KsmC1dYCpaVGNaFWAYnsTSALwvkIpsd3NqWo1YCK07/JgnHIgWwMexJMjyFBSRxyIEumwJBDYhDAKEyWgnMSTI8hQUkcciBLduEC0NRkVBM+rkBPb4XqITIShxtMjzlMSY6OQEOD6Cq6Zcl332Hp99/r3BcXEoLjy5bp3CdJEsa/9RZ+PnIEX917L24ZMKDDNj/dtQt55eVwdnRESq9eeOGWWzCsd28AQENTE+atW4dvDhxAqLc3/nn77RiXkKB9/iu//IJzZWV4a9Ys5V6oPdNogPPngchIo5pJCgLyLylUE5ERGBJMjyFBSS4uQE2N6Cq6LSksDJseflj7b0c9yzpf37wZKgPnXvQNCcE/Zs1CdGAg6pqasGrTJlz/+uvIfv55BHl5YXVGBvacO4ffn3oKPx0+jNvfew9Fr7wClUqFMyUlWJOZid0LFyr18giQ5yUoEBJ+yVGoHiIjOPMdzOTYP64kV1fRFRjFUa1GqI+P9hbo6anz+P68PLy2cSPenzPHoPZuHzoU4xISEB0UhKSwMKy87TZcqq/HwT/Gxo9duICb+/dHUlgY7k9Lw8WqKpRUVwMA7l2/HiumTIG3G08WUpQC8xL6+PM3OLIM/D40PYYEJVn5G9qp4mKEPfkkohctwuz33sO5sjLtY7WNjbj9vffw9qxZCPXx6XLbjc3NWJ2RAR83N1wVEQEAuCo8HJnZ2ahrbMQvR4+ixx/BZP2OHXB1csKtAwcq9troD5cuAZWVRjXhoJbPciASjSHB9NhZoyQr7kkY1rs31s6di7iQEBRWVmLp999j1Cuv4PCzz8LL1RWPfP45hkdHY3IHcxD0+f7gQcz8979R29iIHj4+2Pjww9oeir+OGIGD+flIXLIEgZ6e+Pxvf0N5bS2e+fZbpD/2GBZ//TU+3b0bMUFBeH/OHPT08zPBK7dDeXlAN4Le5ZKCgANFCtVD1E2+1vsj12owJCjJinsSbkpO1v69f3g4hvXujcgFC/D57t0I8vLClhMnsG/Roi63e21cHPYvXoyS6mqsyczE9NWrsePppxHs7Q0nBwe8ffvtOtfftXYtHhwzBvvy8vD1gQM48P/+H17+5Rc8+Nln+OKee4x+nQR5yOGyr3d3JAUrVAuREQI9RFdg+zjcoCQr7km4kq+7O/qGhCD74kVsOX4cORcvwveRR+B4771wvPdeAMDUd99F2muvddiOh4sL+gQH4+roaLw3Zw4cHRzw3vbteq/deuIEjhQW4oFrr0X6iRMYn5wMDxcXTB88GOknTyr+Gu3W+fNAS4tRTQS6A8H8AU2CBbmLrsD2sSdBSVbck3Cl6vp65Fy8iL9cfTWmp6Rg3siROo/3W7YMq6ZPx6T+/bvUrkajQUNzc5v765uacP9//oP1f/0rHNRqtEgSpD/eyJpaWtCi0XT/xZCu5mZ5z4SePY1qJikIKLbexTxk5VSQwyqZFnsSlGTFPQmP//e/2HbyJHJLSvBbTg5uffddOKjVmDVkCEJ9fJDcs6fODQB6+fujd+CfM9jin3kGX+3bBwCoaWjAwq++Qtbp0zhbWoo9Z8/irx9+iIKKCtyWktLm4z/3ww8Yn5yMgb16AQBGxMTgy337cDA/H//YuhUjYmLM8FmwI9yimayctwu3ZTYH9iQoyYp7EvLLyzHr3/9GaU0Ngjw9MbJPH2Q9/TSCvLwMbuNEUREq6+oAAA5qNY5fuIAPs7JQUl2NAA8PDImKQsYTTyApLEzneYcLCvD5nj3Yv3ix9r5pgwYh/eRJjHrlFcSFhuKT//s/ZV4oyRRYChkXCDiqgWZ28pAA7EUwD5UkSZLoImxGczPw/vuiqyAyzOzZgIdxEwtezwKOlShUD1EXXN0TuIurpE3O4ocbVCoVXF1dcfbsWZ37b7nlFsydO1dYW3o5Olp1bwLZGQ45kBXjygbzsPiQAMhv7s8884zFtaWXN0+/ISuhwJADl0KSKFzZYB6KhYS0tDQ8+OCDePLJJ+Hv74/Q0FAsWbJE55pz585h8uTJ8PT0hLe3N6ZPn46ios53ZHnggQfw8ccf4/Dhw+1e8/PPP2PkyJHw9fVFQEAAJk6ciJycthvMG9KWUbowhk8kVEGBfOiTEcK8AD/rna9LVoxzEsxD0Z6EDz/8EB4eHtixYwdefvllLFu2DBs3bgQgL32bPHkyysrKsG3bNmzcuBGnT5/GjBkzOm13xIgRmDhxIp5++ul2r6mpqcGjjz6K3bt3Y/PmzVCr1bj11luhueKHoCFtGYU9CWQtGhqAixeNbiaRQw4kAHsSzEPR1Q39+/fHs88+CwCIjY3FP/7xD2zevBnXXXcdNm/ejEOHDuHMmTOI+GPv/o8++ghJSUnYtWsXhgwZ0mHbL730Evr374+MjAyMGjWqzeNTp07V+ff777+PoKAgHD16FMlX7C7XWVtGYUgga5KXB4SEGNVEUhCw3fjpDUQGc1IDPuzBMgtFexL6X7GxTo8ePVBcXAwAOHbsGCIiIrQBAQASExPh6+uLY8eOddp2YmIi5syZ024PwKlTpzBr1ixER0fD29sbUVFRAOQhjq62ZRQj98QnMisF5iUkBAFqw04PJ1JEECctmo2iPQlOTk46/1apVG26+42xdOlS9O3bF19//XWbxyZNmoTIyEisWbMGYWFh0Gg0SE5ORmNjY5fbMoqvr7LtEZnSxYtAfb1RG4G5OwG9fYGccuXKIuoI5yOYj9lWNyQkJCAvLw95ly27Onr0KCoqKpCYmGhQGxEREXjggQewcOFCtFy293xpaSlOnDiBxYsXY+zYsUhISEB5ecc/sdpry2guLla98yLZGUlSZpUD5yWQGfHcEPMxW0gYN24c+vXrh9mzZ2Pv3r3YuXMn5syZg9TUVAwePNjgdhYsWIDz589j06ZN2vv8/PwQEBCA1atXIzs7G1u2bMGjjz7arbYUERCgbHtEpsSlkGRlonxFV2A/zBYSVCoVvvnmG/j5+WH06NEYN24coqOj8dlnn3WpHX9/fzz11FOor6/X3qdWq/Hpp59iz549SE5OxiOPPIJXXnmlW20p4rLzDIgsngIhoZcP4OmsQC1EBojxE12B/eC2zKaQnQ1s2SK6CiLDTZ1qdA/Yv/cCu84rVA9RO/xcgeXjRFdhP6xix0Wrw54EsjZKbNHMIQcyg2j2IpgVQ4Ip+PjI5zgQWQuFJi9yJSSZGkOCeTEkmIJKxcmLZF0uXACamoxqwtsFCOdeYmRinI9gXgwJpsIhB7ImGo18loORuBSSTMlJLU+SJfNhSDAV9iSQteFSSLJwkb6AA9+1zIqfblMJ5k9LsjIKTF6M8QNcOR2HTITzEcyPIcFU/Pzk3ReJrEVVFVBZaVQTDmogjp1oZCKcj2B+DAmmolIBPXqIroKoa7gUkiwYQ4L5MSSYUliY6AqIukaJkMDJi2QCwe6AFztnzY4hwZTYk0DWprAQMPLAs0B3IIQH8JDCOB9BDIYEU/L357wEsi7NzXJQMBJ7E0hp0f6iK7BPDAmmpFIBoaGiqyDqGi6FJAuUyK1nhGBIMDXOSyBro8C8hL4B8sY3REoI9waCOIQlBP8bmxrnJZC1KS8HamqMasLZAYjlUkhSyEB2yArDkGBqAQGAu7voKoi6RoHehETOSyCFMCSIw5BgaioV0KuX6CqIuoZLIclChHgAPXlwmDAMCeYQFSW6AqKuKSiQD30yQpgX4OeqUD1kt9iLIBZDgjmEhQGO3NCerEhjI1BcbHQz7E0gYw3ktC6hGBLMwdERCA8XXQVR13ApJAnm7wZE+Yquwr4xJJhLZKToCoi6RoF5CQmBgFqlQC1klwZwqEE4hgRz6dVLnsRIZC1KSoD6eqOacHPidrrUfYMYEoRjSDAXNzcgmH2vZEUkSZEhBy6FpO7wdgFiuBWzcAwJ5tS7t+gKiLqGSyFJkKtCOFRlCRgSzKlPHw45kHXJz5d7FIwQ6QN4OStUD9mNQVzVYBEYEszJ3R3o2VN0FUSGq6sDSkuNakKlAhLYm0Bd4O4ExHFbb4vAkGBusbGiKyDqGiWWQjIkUBek9AAc+O5kEfhlMLfevQEnJ9FVEBlOoXMcONBGhkqLEl0BtWJIMDdHR05gJOtSVCTvwGgEbxcgwkehesimxfrLR0OTZWBIEIFDDmRNNBrg/Hmjm+FSSDLEtVGiK6DLMSSIEBYGeHiIroLIcFwKSWbg68pdFi0NQ4IIKhV7E8i6KDB5McYPcOU5Z9SB0ZGcsGhp+OUQJSGBeyaQ9aiqAioqjGrCQQ3EBypTDtkeRzUwqpfoKuhKDAmieHnJ5zkQWQsuhSQTGtRDnuBKloUhQaTkZNEVEBmO8xLIhMZEia6A9GFIEKlnT8CPR+SRlSgsBFpajGoiwB0I9VSoHrIZUT5Ab/4otEgMCaIlJYmugMgwzc1yUDASexPoStw8yXIxJIgWGws48/QbshIK7b5I1MrLGRgcJroKag9DgmhOTkBcnOgqiAyjwOTFvgGAE3/y0B9G9AKcHERXQe3hf1VLkJTE5ZBkHcrLgepqo5pwdgBiecIfAVCrgNRI0VVQRxgSLIG3N89zIOvBpZCkkKvDAX830VVQRxgSLMWgQaIrIDIMl0KSApzUwKS+oqugzjAkWAp/fyAqSnQVRJ0rKJAPfTJCDy8ggL9B2rXUKPYiWAOGBEvC3gSyBo2NQHGx0c1wlYP9cnUEbuojugoyBEOCJQkM5FbNZB24FJKMcH0M4MmV31aBIcHSsDeBrIECkxcTAuXZ7WRfvF2AcZynbTUYEixNcDAQHi66CqKOlZQA9fVGNeHmBERzK167MyEWcOGR4VaDIcESpaSIroCoY5LEpZDUZUHuPA7a2jAkWKKQECCSO4yQheNSSOqim+MAB77rWBV+uSzVsGHchZEsW36+3KNghF4+8t79ZPsivIEhPKPB6jAkWCpfXyAxUXQVRO2rqwNKS41qQqXiKgd7cUs8f++xRgwJliwlhSdEkmXjUkgyQN8AIDlYdBXUHQwJlszVFRg4UHQVRO1TaPIif8G0bVPiRVdA3cWQYOmSkwEvL9FVEOlXVCTvwGgELxcgwkehesjiDAkDenOpq9ViSLB0Dg7A0KGiqyDST6MBzp83uhmucrBNHk7A9CTRVZAxGBKsQUyMvCySyBJxKSS1Y2qCvMMiWS+GBGsxciSnBpNlUmBeQrQf4MZd+GxKXAAwghsnWT2GBGsRECDPTyCyNFVVQEWFUU04qIH4QGXKIfGc1MDsfqKrICUwJFiTwYMBDw/RVRC1xSEHusz4WCDEU3QVpASGBGvi5ASMGCG6CqK2lFgKyXX0NiHcC7ghRnQVpBSGBGsTFQVER4uugkjX+fNAc7NRTfi7AT3426dVc1ABcwfwfAZbwi+lNRo+HHDhlGGyIC0twIULRjfD3Ret24RY7nlhaxgSrJG7O3D11aKrINLFeQl2LdIHuLGP6CpIaQwJ1iouDoiIEF0F0Z8UCAl9A+SZ8WRdHNUcZrBV/JJas9RU+XwHIktQUQFUVxvVhJODHBTIutwcB4Rx93ibxJBgzdzd5aBAZCk45GB3YvyA6ziX2mYxJFi7yEggMVF0FUQyJUICl0JaDS9n4O5BgJqbwdoshgRbcPXVgK+v6CqI5KWQGo1RTYR6AgFuCtVDJqNWAX9LAfz4tbJpDAm2wNERGDMGUPPLSYI1NsrHRxuJQw6Wb1oC54/YA76r2IrAQGDIENFVEHH3RTswtCcwlvMQ7AJDgi3p3x/o2VN0FWTvFJiXEBcg795HlifCG/hLf9FVkLkwJNgSlQoYOxbw5N62JFBJCVBXZ1QTbk7y8dFkWTycgHsGA84Ooishc2FIsDWursD11wMO/F9MAnHIweaoAMwbBAS6i66EzIkhwRYFBgKjRomuguwZ90uwObfE82wNe8SQYKv69gWSkkRXQfaqoACQJKOaiPAGvHmOmUUYFMpzGewVQ4Itu+YaIDRUdBVkj+rq5LkJRlCpgMRAheqhbuvhCdw5QHQVJApDgi1Tq4Fx4+Ttm4nMjfMSrJ6bI3DvYMDVUXQlJApDgq1zd+dERhJDgXkJiUHyhDkyP7UK+OtAIISLpewaQ4I9CA6Wd2RU8cctmVFRkbwDoxE8nYFePgrVQwZTAbjzKqB/iOhKSDSGBHvRu7c8R4HIXCRJnsBoJA45mN+sfsDV4aKrIEvAkGBPkpPlXRmJzIVLIa3O1AQgNVJ0FWQpGBLszbBhQEyM6CrIXigweTHaD3B3UqAW6tSEWOB6/nigyzAk2BuVCkhLA3r0EF0J2YPqaqC83Kgm1CognqcNmty4aODmONFVkKVhSLBHDg7ADTcAftwcn8yASyEt3uhewG2JoqsgS8SQYK+cnYHx4wFvb9GVkK1TaCkkmcawnvJERSJ9GBLsmYcHMHEi4OUluhKyZYWFQHOzUU34u8k7/5GyBoQCcwfIQzpE+jAk2DtPTzko8HhpMpWWFjkoGIlDDspKDALuHsSAQB1jSCC5J2HiRLlngcgUuBTSosT6y9stO/IdgDrBbxGSeXvLQYHnPJApKDB5MdYfcObu4kaL9QceGMrPJRmGIYH+5OMjBwU3N9GVkK2pqACqqoxqwskB6OuvTDn2anAY8NAwHthEhmNIIF2+vuxRINNQYsiB8xK67fpoYN5AOWwRGYohgdry8wMmT5Z7FoiUosR+CZyX0GUqADOTgamJPOONuo4hgfTz8gJuvhkIDBRdCdmKggJAozGqiRBPIJCdXAZzUgP3DAaujRJdCVkrhgRqn5ubPPTQs6foSsgWNDXJx0cbiRsrGcbLGXjsGnkvBKLuYkigjjk7AzfeCERHi66EbAGXQppFsAfw1AigN3deJyMxJFDnHByAsWOBRG7uTkZSYF5CfCDgwLH1dkX7yQEhiNuekAIYEsgwKhUwciQweLDoSsialZQAdXVGNeHqCMTwN2S9BoQCj1wNeDqLroRsBUMCdc2gQcC4cYAjF1pTN3EppEmMiQLmp3CTJFIWQwJ1XXS0vESS5z1Qd3AppKKc1MDt/YAZyTyHgZTHkEDdExAA3HorEMqp09RF+fmAJBnVRLg34O2iUD1WrIcnsGAkkBopuhKyVQwJ1H2tSyTj40VXQtakvl6em2AElYpLIUdEAAtHAT29RVdCtowhgYyjVgOjRwPDh3M7NzIcl0J2m6sjMG8QMOcqzj8g02NIIGUkJ/O4aTKcAvMSEoPkLYftSW9f4P+NBoaEia6E7AVDAimnRw9g6lSgVy/RlZClKyoCGhuNasLTGYi0k+NFVACujwGeGM5tqcm8GBJIWa6u8g6N11wjD0UQ6SNJyqxysIOlkN4uwIPDgKkJgAP/S5GZ8VuOTKNfP3mZpDdnVVE7uBSyUwmB8vCCvU/SJHEYEsh0goKAKVOAPn1EV0KWSIGQ0NsPcHdSoBYL46ACpsQDDw3jUk8SiyGBTMvZGRgzBkhLk/9O1Kq6GigvN6oJtUo+y8GWxPjJSxtv6MMFQyQe99Yl8+jbFwgLAzIyFFn+RjYiLw/wM+4ghqQgYG+hQvUI5OUszzu4OpzhgCwHexLIfDw9gZtuAlJT2atAMs5LgFoFpEUCy64FrolgQCDLwp4EMr+4OCA8HMjMBM6eFV0NiVRYCDQ3G3VgmJ8bEOYFnK9SsC4z6e0rn7vQy06WcpL1YUggMTw8gBtuAE6fBrZvN/r4YLJSLS3A+fNG762RFGRdIcHTGbg1Xt5amT0HZMk43EBiRUcD06cDiYn8aWmv7GjIQQVgdC9gWRowshe/5cnysSeBxHNxAUaOBBISgN9+k7ugyX4oMJG1j798jkFjiwL1mEikjzy0EOUruhIiwzEkkOUICAAmTZKHILKy5CVyZPsqK4GqKsDLq9tNODkAfQOAw8UK1qUQL2fg5ji550DNngOyMgwJZHmio+Ux6gMHgP375XFrsm15efKQkxGSgiwrJPi6ANfFAKMjeVojWS+GBLJMjo5ASoq8EiIrS+5dINuVn69ISLAEAW7ADTHA8Ai5h4PImjEkkGXz9ATGjQNKSoDdu4Fz50RXRKZQUABoNEYdChbiKZ+QWFKrYF1dEOwO3NhH3gyJBzGRrVBJkiSJLoLIYMXFclhQYEY8WZiJE+VdOY3wySFgm5m33ujhCdzUBxjSk3MOyPYwJJB1unAB2LWLKyFsyYABwNChRjVx4ALwz93KlNOZcG9gfB9gYA+GA7JdDAlk3QoK5J6FoiLRlZCxAgKAqVONaqK+GXj0F6DFhD/VonyA8bFA/xDuc0C2j3MSyLr17CnfLlwADh0CcnMB5l7rVFoK1NYC7u7dbsLVEYjxB06WKlgXACc1MCAUGNELSLCxUyeJOsKQQLYhNFS+XboEHD4MnDgBNDWJroq6Kj9fPjHUCElByoWESB95lcKQMMCDZ5KRHeJwA9mmhgbg2DHgyBGgpkZ0NWSomBhg7Fijmsi7BDz/a/ef7+UMDO0pn6vQ09uoUoisHnsSyDa5uMgT4fr3l/dYOHaMkxytQUGBPFxkxGB/hDfg4wJUNhj+HLUKSA4GhofLcw24hJFIxpBAtk2tBvr0kW+VlfIwxMmT8tg3WZ76euDiRSA42KhmEoOA3w1YJdvDE7gmAri6J+DjatSHJLJJHG4g+6PRyGPfx4/LmzNpNKIrossNHgwMGmRUE7sKgH/v0/+Yr6vcW3BNOBDtZ9SHIbJ57Ekg+6NWy2dD9OoF1NUBp04B2dnyro4kXl6e0SEhMUg+llmC/GeUL9AvBOgXDPTyUaBGIjvBngSiVlVVwJkz8o37LoijUgFz5sjzSozw1TF5q+bkYMDbuKaI7BZDApE+NTV/BoYLF7j3grmNGyefBkpEQjEkEHWmrg44e1aex3D+vDy5jkwrLg5ITRVdBZHdY0gg6gpJkncGzM+Xl+tduAC0tIiuyjZ4eMi7Z4aHy3+6uYmuiMjuMSQQGaOlRQ4KBQXyPgwlJQwNhvLzk5c6hoTIu2X6+oquiIiuwJBApCSNBigrk9f6FxfLf5aXc06Ds7McCFpDQXCw0RMTicj0GBKITK2pSe5huHhRHqqoqJBvtni2hFoN+PjIvQStN39/+T4emUhkdRgSiESQJHkFRXm5vBPkpUvyn5WV8v2WPGShVsvzBzw8AE9PwNtbDgJ+fnIYUHNPYyJbwZBAZIkaGuSwUFure6upkVdbNDbKPRHNzX/+2V0qFeDkJHf/Ozvr3lxd5SDQGgg8PeUJhewVILILDAlEtkCS2oaG1jdylUr/39VqOQg4OfFNn4j0YkggIiIivTh4SERERHoxJBAREZFeDAlERESkF0MCERER6cWQQERERHoxJBAREZFeDAlERESkF0MCERER6cWQQERERHoxJBAREZFeDAlERESkF0MCERER6cWQQERERHoxJBAREZFeDAlERESkF0MCERER6cWQQERERHoxJBAREZFeDAlERESkF0MCERER6cWQQERERHoxJBAREZFeDAlERESkF0MCERER6cWQQERERHr9f1EU2Nu6nl4MAAAAAElFTkSuQmCC",
      "text/plain": [
       "<Figure size 640x480 with 1 Axes>"
      ]
     },
     "metadata": {},
     "output_type": "display_data"
    }
   ],
   "source": [
    "# 결측치 있는 칼럼 확인해보기 \n",
    "total_columns = len(famadult.columns)\n",
    "nan_columns = len(nan_col2)\n",
    "\n",
    "labels = ['no NaN', 'with NaN']\n",
    "sizes = [total_columns - nan_columns, nan_columns]\n",
    "colors = ['#ff9999', '#66b3ff']\n",
    "explode = (0, 0.1)\n",
    "\n",
    "plt.pie(sizes, explode=explode, labels=labels, colors=colors, autopct='%1.1f%%', startangle=90)\n",
    "plt.title('Percentage of Columns with NaN')\n",
    "plt.axis('equal')\n",
    "plt.show()"
   ]
  },
  {
   "cell_type": "code",
   "execution_count": 21,
   "id": "1421d5ae-cc1a-4786-8696-8f024c55d8a0",
   "metadata": {},
   "outputs": [],
   "source": [
    "# PREGNOW 는 2.0 \n",
    "# AFLHC 로 시작하는 놈들 다 2.0 \n",
    "# 성인 BMI은 결측치는 없다. 이상치 제거 \n",
    "for i in nan_col2 : \n",
    "    famadult[[i]] = famadult[[i]].fillna(2.0)"
   ]
  },
  {
   "cell_type": "code",
   "execution_count": 22,
   "id": "9241acde-23c1-4f6b-bf3f-fd02a81a9c5b",
   "metadata": {},
   "outputs": [
    {
     "data": {
      "text/plain": [
       "<AxesSubplot: >"
      ]
     },
     "execution_count": 22,
     "metadata": {},
     "output_type": "execute_result"
    },
    {
     "data": {
      "image/png": "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",
      "text/plain": [
       "<Figure size 400x400 with 1 Axes>"
      ]
     },
     "metadata": {},
     "output_type": "display_data"
    }
   ],
   "source": [
    "# BMI 이상치 봐보기 \n",
    "plt.figure(figsize=(4,4))\n",
    "famadult[['BMI']].boxplot()"
   ]
  },
  {
   "cell_type": "code",
   "execution_count": 23,
   "id": "aa07e370-46d0-48c9-b975-4327bce5124c",
   "metadata": {},
   "outputs": [
    {
     "data": {
      "text/plain": [
       "<AxesSubplot: >"
      ]
     },
     "execution_count": 23,
     "metadata": {},
     "output_type": "execute_result"
    },
    {
     "data": {
      "image/png": "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",
      "text/plain": [
       "<Figure size 640x480 with 1 Axes>"
      ]
     },
     "metadata": {},
     "output_type": "display_data"
    }
   ],
   "source": [
    "# AGE_P 에 분포 확인 해보기  \n",
    "famadult['AGE_P'].hist()"
   ]
  },
  {
   "cell_type": "code",
   "execution_count": 24,
   "id": "cc260741-5559-406d-9f9e-6a227429ef1c",
   "metadata": {},
   "outputs": [],
   "source": [
    "# 남자와 여자의 몸무게 평균으로 이상치 바꿧다. \n",
    "men_mean = round(famadult['BMI'][famadult['SEX']==1].mean(),-1)\n",
    "women_mean = round(famadult['BMI'][famadult['SEX']==2].mean(),-1)\n",
    "\n",
    "famadult.loc[(famadult['SEX'] == 1) & ((famadult['BMI'] >= 9000) | (famadult['BMI'] <= 1000)),'BMI'] = men_mean\n",
    "famadult.loc[(famadult['SEX'] == 2) & ((famadult['BMI'] >= 9000) | (famadult['BMI'] <= 1000)),'BMI'] = women_mean"
   ]
  },
  {
   "cell_type": "code",
   "execution_count": 25,
   "id": "fec35459-fc97-49e2-a4f1-52477b9eb4cf",
   "metadata": {},
   "outputs": [],
   "source": [
    "# 수면 시간 이상치는 최빈값으로 \n",
    "famadult['ASISLEEP'] = famadult['ASISLEEP'].apply(lambda x : 8 if x in [97,98,99] else x)\n",
    "# 타겟 데이터를 1.0 ,2.0 으로 통합했다.\n",
    "famadult['DIBEV1'] = famadult['DIBEV1'].apply(lambda x: 1.0 if x in [1.0, 3.0] else 2.0)"
   ]
  },
  {
   "cell_type": "code",
   "execution_count": 26,
   "id": "233ec2e1-d840-43ed-abd7-a74989f1c60c",
   "metadata": {},
   "outputs": [],
   "source": [
    "# 주관식 문항 같은 숫자가 의미있는 COLUMNS를 제외시키고 나머지 COLUMNS를 CATEGORY로 타입을 변환했다.\n",
    "numeric_col = ['AGE_P','ASISLEEP','BMI','DIBEV1']\n",
    "cat_col = np.setdiff1d(famadult.columns,numeric_col)\n",
    "famadult[cat_col] = famadult[cat_col].astype('category')"
   ]
  },
  {
   "cell_type": "code",
   "execution_count": 27,
   "id": "7065e085-fcdc-4136-aa04-0fa89eeefb72",
   "metadata": {},
   "outputs": [],
   "source": [
    "onefamadult = pd.get_dummies(famadult.drop('fh_code',axis=1))"
   ]
  },
  {
   "cell_type": "code",
   "execution_count": 28,
   "id": "d6e4870b-587a-4dfd-87bb-b1f214ea5ba7",
   "metadata": {},
   "outputs": [
    {
     "data": {
      "text/html": [
       "<div>\n",
       "<style scoped>\n",
       "    .dataframe tbody tr th:only-of-type {\n",
       "        vertical-align: middle;\n",
       "    }\n",
       "\n",
       "    .dataframe tbody tr th {\n",
       "        vertical-align: top;\n",
       "    }\n",
       "\n",
       "    .dataframe thead th {\n",
       "        text-align: right;\n",
       "    }\n",
       "</style>\n",
       "<table border=\"1\" class=\"dataframe\">\n",
       "  <thead>\n",
       "    <tr style=\"text-align: right;\">\n",
       "      <th></th>\n",
       "      <th>AGE_P</th>\n",
       "      <th>BMI</th>\n",
       "      <th>ASISLEEP</th>\n",
       "    </tr>\n",
       "  </thead>\n",
       "  <tbody>\n",
       "    <tr>\n",
       "      <th>0</th>\n",
       "      <td>79</td>\n",
       "      <td>2358</td>\n",
       "      <td>8</td>\n",
       "    </tr>\n",
       "    <tr>\n",
       "      <th>1</th>\n",
       "      <td>37</td>\n",
       "      <td>3279</td>\n",
       "      <td>5</td>\n",
       "    </tr>\n",
       "    <tr>\n",
       "      <th>2</th>\n",
       "      <td>29</td>\n",
       "      <td>4363</td>\n",
       "      <td>7</td>\n",
       "    </tr>\n",
       "    <tr>\n",
       "      <th>3</th>\n",
       "      <td>75</td>\n",
       "      <td>2229</td>\n",
       "      <td>5</td>\n",
       "    </tr>\n",
       "    <tr>\n",
       "      <th>4</th>\n",
       "      <td>39</td>\n",
       "      <td>2372</td>\n",
       "      <td>8</td>\n",
       "    </tr>\n",
       "    <tr>\n",
       "      <th>...</th>\n",
       "      <td>...</td>\n",
       "      <td>...</td>\n",
       "      <td>...</td>\n",
       "    </tr>\n",
       "    <tr>\n",
       "      <th>25412</th>\n",
       "      <td>19</td>\n",
       "      <td>2090</td>\n",
       "      <td>6</td>\n",
       "    </tr>\n",
       "    <tr>\n",
       "      <th>25413</th>\n",
       "      <td>49</td>\n",
       "      <td>2745</td>\n",
       "      <td>8</td>\n",
       "    </tr>\n",
       "    <tr>\n",
       "      <th>25414</th>\n",
       "      <td>40</td>\n",
       "      <td>2585</td>\n",
       "      <td>8</td>\n",
       "    </tr>\n",
       "    <tr>\n",
       "      <th>25415</th>\n",
       "      <td>61</td>\n",
       "      <td>2663</td>\n",
       "      <td>7</td>\n",
       "    </tr>\n",
       "    <tr>\n",
       "      <th>25416</th>\n",
       "      <td>70</td>\n",
       "      <td>2495</td>\n",
       "      <td>8</td>\n",
       "    </tr>\n",
       "  </tbody>\n",
       "</table>\n",
       "<p>25417 rows × 3 columns</p>\n",
       "</div>"
      ],
      "text/plain": [
       "       AGE_P   BMI  ASISLEEP\n",
       "0         79  2358         8\n",
       "1         37  3279         5\n",
       "2         29  4363         7\n",
       "3         75  2229         5\n",
       "4         39  2372         8\n",
       "...      ...   ...       ...\n",
       "25412     19  2090         6\n",
       "25413     49  2745         8\n",
       "25414     40  2585         8\n",
       "25415     61  2663         7\n",
       "25416     70  2495         8\n",
       "\n",
       "[25417 rows x 3 columns]"
      ]
     },
     "execution_count": 28,
     "metadata": {},
     "output_type": "execute_result"
    }
   ],
   "source": [
    "onefamadult[['AGE_P','BMI','ASISLEEP']]"
   ]
  },
  {
   "cell_type": "code",
   "execution_count": 29,
   "id": "f820fc24-faed-4e5f-a67f-53ae3b022af5",
   "metadata": {},
   "outputs": [
    {
     "data": {
      "text/plain": [
       "<AxesSubplot: >"
      ]
     },
     "execution_count": 29,
     "metadata": {},
     "output_type": "execute_result"
    },
    {
     "data": {
      "image/png": "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",
      "text/plain": [
       "<Figure size 640x480 with 1 Axes>"
      ]
     },
     "metadata": {},
     "output_type": "display_data"
    }
   ],
   "source": [
    "onefamadult['DIBEV1'].value_counts().plot(kind='bar')"
   ]
  },
  {
   "cell_type": "code",
   "execution_count": 30,
   "id": "17d7859f-d7eb-4ec4-a6f9-90f7b3420990",
   "metadata": {},
   "outputs": [],
   "source": [
    "save_path = 'famadult.csv'\n",
    "famadult.to_csv(save_path, index=False) "
   ]
  },
  {
   "cell_type": "code",
   "execution_count": 31,
   "id": "810a030b-233d-4159-9fc7-b0dcc36c3556",
   "metadata": {},
   "outputs": [],
   "source": [
    "save_path = 'onefamadult.csv'\n",
    "onefamadult.to_csv(save_path,index=False)"
   ]
  },
  {
   "cell_type": "markdown",
   "id": "0547f111-77b9-417b-8c6a-f0b84dbd1584",
   "metadata": {},
   "source": [
    "# 도전"
   ]
  },
  {
   "cell_type": "code",
   "execution_count": null,
   "id": "c5c4d8f9-3469-45ea-85ea-4dadeddc40c4",
   "metadata": {},
   "outputs": [],
   "source": [
    "# 설문조사 데이터 에서 ml 훈련할 feature를 선별후 설문지에서 제시한 객관식 문항과 타겟으로 사용할 데이터는 category타입으로, 자율성이 있는 주관식 문항은 int,float로 변경후 사용해 주세요 \n",
    "# 객관식 문항의 결측치는 최빈값 으로 주관식 문항의 결측치는 평균으로 대체 됩니다. \n",
    "# 현재 경로에 csv 파일을 입력하세요  \n",
    "def replace_nan(df):\n",
    "    df = f'{df}.csv'\n",
    "    df = pd.read_csv(df)\n",
    "    category_col = [] \n",
    "    for i in df.columns :\n",
    "        if (df[i].dtype == 'int64') | (df[i].dtype== 'float64') :\n",
    "            df[i] = df[i].fillna(df[i].mode()[0])\n",
    "        elif df[i].dtype == 'category' : \n",
    "            category_col.append(i)\n",
    "            df[i] = df[i].fillna(df[i].astype('int64').mean())\n",
    "    return df "
   ]
  },
  {
   "cell_type": "code",
   "execution_count": null,
   "id": "41599e19-d9e0-4177-8be1-d33fbb3237c9",
   "metadata": {},
   "outputs": [],
   "source": [
    "# 현재 경로에 csv 파일을 입력하세요 \n",
    "def data_split_import(df,target):\n",
    "    df = f'{df}.csv'\n",
    "    df = pd.read_csv(df)\n",
    "    x_train,x_test,y_train,y_test = train_test_split(df.drop(target, axis=1), df[target],train_size=0.8,random_state=123)"
   ]
  },
  {
   "cell_type": "markdown",
   "id": "49af3162-4469-42e0-9992-2d6953223bb0",
   "metadata": {},
   "source": [
    "'''\n",
    "AUTO ML PYCARET 에 이상치를 처리하는 매개변수 \n",
    "이상치 처리:\n",
    "outliers_threshold 매개변수를 사용하여 이상치를 탐지하고 제거하는 데 사용되는 임계값을 설정할 수 있습니다. 예: outliers_threshold=0.05는 5%의 이상치를 제거합니다.\n",
    "'''"
   ]
  },
  {
   "cell_type": "code",
   "execution_count": null,
   "id": "404509dc-2a5d-4fbb-8efa-2c3bd07be5a4",
   "metadata": {},
   "outputs": [],
   "source": []
  }
 ],
 "metadata": {
  "kernelspec": {
   "display_name": "Python 3 (ipykernel)",
   "language": "python",
   "name": "python3"
  },
  "language_info": {
   "codemirror_mode": {
    "name": "ipython",
    "version": 3
   },
   "file_extension": ".py",
   "mimetype": "text/x-python",
   "name": "python",
   "nbconvert_exporter": "python",
   "pygments_lexer": "ipython3",
   "version": "3.10.13"
  }
 },
 "nbformat": 4,
 "nbformat_minor": 5
}
